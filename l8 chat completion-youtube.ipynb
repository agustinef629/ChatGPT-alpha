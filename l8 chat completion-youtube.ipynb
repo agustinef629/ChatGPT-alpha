{
 "cells": [
  {
   "cell_type": "code",
   "execution_count": 8,
   "id": "822b5a86",
   "metadata": {},
   "outputs": [],
   "source": [
    "import os\n",
    "import openai\n",
    "\n",
    "openai.api_key = os.getenv(\"OPENAI_API_KEY\")"
   ]
  },
  {
   "cell_type": "code",
   "execution_count": 5,
   "id": "9a2aad9b",
   "metadata": {},
   "outputs": [],
   "source": [
    "# Define a function to generate chatbot responses\n",
    "def generate_chat_response(messages):\n",
    "    response = openai.ChatCompletion.create(\n",
    "        model=\"gpt-3.5-turbo\",\n",
    "        messages=messages,\n",
    "        max_tokens=50,\n",
    "        temperature=0.6\n",
    "    )\n",
    "\n",
    "    chat_response = response.choices[0].message.content.strip()\n",
    "    return chat_response\n"
   ]
  },
  {
   "cell_type": "code",
   "execution_count": 7,
   "id": "857e2253",
   "metadata": {},
   "outputs": [
    {
     "name": "stdout",
     "output_type": "stream",
     "text": [
      "User: hi\n",
      "Bot :  Hello! How can I assist you today as an LIC agent?\n",
      "User: \n",
      "  @media print {\n",
      "    .ms-editor-squiggles-container {\n",
      "      display:none !important;\n",
      "    }\n",
      "  }\n",
      "  .ms-editor-squiggles-container {\n",
      "    all: initial;\n",
      "  }tell me about jeevan anand\n",
      "Bot :  Jeevan Anand is a popular life insurance plan offered by the Life Insurance Corporation of India (LIC). It is a combination of an endowment plan and a whole life plan, which provides both protection and savings benefits. \n",
      "\n",
      "Under this plan\n",
      "User: end\n",
      "End of conversation\n"
     ]
    }
   ],
   "source": [
    "# Create a list for the \n",
    "messages = [\n",
    "    {\"role\": \"system\", \"content\": \"You are an lic agent.\"},\n",
    "]\n",
    "\n",
    "while True:\n",
    "    # Get user's input\n",
    "    user_input = input(\"User: \")\n",
    "    \n",
    "    if \"end\" in user_input:\n",
    "        print(\"End of conversation\")\n",
    "        break\n",
    "\n",
    "    # Add the system message and user message\n",
    "    chatbot_messages.append({\"role\": \"user\", \"content\": user_input})\n",
    "\n",
    "    #Get response from the chatbot\n",
    "    chatbot_response = generate_chat_response(chatbot_messages)\n",
    "    \n",
    "    #Print response from chatbot\n",
    "    print(\"Bot : \",chatbot_response)\n",
    "\n"
   ]
  }
 ],
 "metadata": {
  "kernelspec": {
   "display_name": "Python 3 (ipykernel)",
   "language": "python",
   "name": "python3"
  },
  "language_info": {
   "codemirror_mode": {
    "name": "ipython",
    "version": 3
   },
   "file_extension": ".py",
   "mimetype": "text/x-python",
   "name": "python",
   "nbconvert_exporter": "python",
   "pygments_lexer": "ipython3",
   "version": "3.8.2"
  }
 },
 "nbformat": 4,
 "nbformat_minor": 5
}
