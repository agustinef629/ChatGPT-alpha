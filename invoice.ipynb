{
 "cells": [
  {
   "cell_type": "code",
   "execution_count": 4,
   "id": "8b511799",
   "metadata": {},
   "outputs": [],
   "source": [
    "from langchain.document_loaders import PyPDFLoader\n",
    "\n",
    "loader = PyPDFLoader(\".\\\\pdf\\\\invoice.pdf\")\n",
    "pages = loader.load()"
   ]
  },
  {
   "cell_type": "code",
   "execution_count": 5,
   "id": "5b4e516b",
   "metadata": {},
   "outputs": [
    {
     "name": "stdout",
     "output_type": "stream",
     "text": [
      "1\n"
     ]
    }
   ],
   "source": [
    "print(len(pages))"
   ]
  },
  {
   "cell_type": "code",
   "execution_count": 32,
   "id": "4e4c4007",
   "metadata": {},
   "outputs": [
    {
     "name": "stdout",
     "output_type": "stream",
     "text": [
      "[Document(page_content='Invoice W3-JAVA -011 ABC Technologies Pvt. Ltd.  \\nOffice: No. 3 14, Indira  Nagar 2nd Street, Saibaba Colony ,  \\nCoimbatore, Tamil Nadu – 6410 02.  \\n \\nDate  To  \\nDecember 1, 2022  XYZ  Consulting Private Ltd  \\n \\n  \\n \\nDuration  Description  Unit Price  Total  \\n20 ho urs Audio Transcription  ₹200 ₹40000  \\n10 hours  Translation  ₹100 ₹1000  \\n    \\n    \\n    \\n    \\n    \\n    \\n    \\n    \\n  Total Due  ₹41000  \\n ', metadata={'source': '.\\\\pdf\\\\invoice.pdf', 'page': 0})]\n"
     ]
    }
   ],
   "source": [
    "print(pages)"
   ]
  },
  {
   "cell_type": "code",
   "execution_count": 13,
   "id": "7940d23c",
   "metadata": {},
   "outputs": [
    {
     "name": "stdout",
     "output_type": "stream",
     "text": [
      "Invoice W3-JAVA -011 ABC Technologies Pvt. Ltd.  \n",
      "Office: No. 3 14, Indira  Nagar 2nd Street, Saibaba Colony ,  \n",
      "Coimbatore, Tamil Nadu – 6410 02.  \n",
      " \n",
      "Date  To  \n",
      "December 1, 2022  XYZ  Consulting Private Ltd  \n",
      " \n",
      "  \n",
      " \n",
      "Duration  Description  Unit Price  Total  \n",
      "20 ho urs Audio Transcription  ₹200 ₹40000  \n",
      "10 hours  Translation  ₹100 ₹1000  \n",
      "    \n",
      "    \n",
      "    \n",
      "    \n",
      "    \n",
      "    \n",
      "    \n",
      "    \n",
      "  Total Due  ₹41000  \n",
      " \n"
     ]
    }
   ],
   "source": [
    "print(pages[0].page_content)"
   ]
  },
  {
   "cell_type": "code",
   "execution_count": 7,
   "id": "1deb3c86",
   "metadata": {},
   "outputs": [],
   "source": [
    "from langchain.llms import OpenAI\n",
    "from langchain.chains import LLMChain\n",
    "from langchain.prompts import PromptTemplate"
   ]
  },
  {
   "cell_type": "code",
   "execution_count": 29,
   "id": "34ce60bf",
   "metadata": {},
   "outputs": [],
   "source": [
    "# This is an LLMChain to get named entities.\n",
    "llm = OpenAI(temperature=.7)\n",
    "template = \"\"\"Extract invoice number, name of organization, address, date, \n",
    "        item list, unit price total price in {pages}\n",
    "Output : entity : type\n",
    "\"\"\"\n",
    "prompt_template = PromptTemplate(input_variables=[\"pages\"], template=template)\n",
    "ner_chain = LLMChain(llm=llm, prompt=prompt_template)"
   ]
  },
  {
   "cell_type": "code",
   "execution_count": 30,
   "id": "58503f20",
   "metadata": {},
   "outputs": [],
   "source": [
    "result = ner_chain.run(pages=pages[0].page_content)"
   ]
  },
  {
   "cell_type": "code",
   "execution_count": 31,
   "id": "f3b8c639",
   "metadata": {},
   "outputs": [
    {
     "name": "stdout",
     "output_type": "stream",
     "text": [
      "Invoice number: W3-JAVA -011\n",
      "Name of organization: ABC Technologies Pvt. Ltd.\n",
      "Address: No. 3 14, Indira Nagar 2nd Street, Saibaba Colony, Coimbatore, Tamil Nadu – 6410 02.\n",
      "Date: December 1, 2022\n",
      "Item list: Audio Transcription, Translation\n",
      "Unit Price: ₹200, ₹100\n",
      "Total Price: ₹40000, ₹1000\n",
      "Total Due: ₹41000\n"
     ]
    }
   ],
   "source": [
    "print(result)"
   ]
  }
 ],
 "metadata": {
  "kernelspec": {
   "display_name": "Python 3 (ipykernel)",
   "language": "python",
   "name": "python3"
  },
  "language_info": {
   "codemirror_mode": {
    "name": "ipython",
    "version": 3
   },
   "file_extension": ".py",
   "mimetype": "text/x-python",
   "name": "python",
   "nbconvert_exporter": "python",
   "pygments_lexer": "ipython3",
   "version": "3.8.2"
  }
 },
 "nbformat": 4,
 "nbformat_minor": 5
}
