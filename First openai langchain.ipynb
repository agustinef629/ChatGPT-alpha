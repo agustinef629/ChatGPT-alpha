{
 "cells": [
  {
   "cell_type": "code",
   "execution_count": 1,
   "id": "faf823a0",
   "metadata": {},
   "outputs": [],
   "source": [
    "import os\n",
    "import openai\n",
    "\n",
    "openai.api_key = os.getenv(\"OPENAI_API_KEY_SID\")"
   ]
  },
  {
   "cell_type": "code",
   "execution_count": 2,
   "id": "4594f6c2",
   "metadata": {},
   "outputs": [],
   "source": [
    "from langchain import OpenAI"
   ]
  },
  {
   "cell_type": "code",
   "execution_count": 3,
   "id": "fc5c20cd",
   "metadata": {},
   "outputs": [],
   "source": [
    "llm = OpenAI(model_name = \"text-davinci-003\",max_tokens=20, n=5)"
   ]
  },
  {
   "cell_type": "markdown",
   "id": "0a76a897",
   "metadata": {},
   "source": [
    "# String in-String out"
   ]
  },
  {
   "cell_type": "code",
   "execution_count": 4,
   "id": "437f7460",
   "metadata": {},
   "outputs": [
    {
     "data": {
      "text/plain": [
       "'\\n\\nOCR: Optical Character Recognition'"
      ]
     },
     "execution_count": 4,
     "metadata": {},
     "output_type": "execute_result"
    }
   ],
   "source": [
    "llm(\"find acronym of OCR\")"
   ]
  },
  {
   "cell_type": "markdown",
   "id": "a9738744",
   "metadata": {},
   "source": [
    "# Rich Output"
   ]
  },
  {
   "cell_type": "code",
   "execution_count": 5,
   "id": "e6140275",
   "metadata": {},
   "outputs": [],
   "source": [
    "llm_result = llm.generate([\"Find acronym of OCR\",\"Find acronym of API\"])"
   ]
  },
  {
   "cell_type": "code",
   "execution_count": 6,
   "id": "cfa09a3d",
   "metadata": {},
   "outputs": [
    {
     "name": "stdout",
     "output_type": "stream",
     "text": [
      "generations=[[Generation(text='\\n\\nOCR: Optical Character Recognition', generation_info={'finish_reason': 'stop', 'logprobs': None}), Generation(text='\\n\\nOCR: Optical Character Recognition', generation_info={'finish_reason': 'stop', 'logprobs': None}), Generation(text='\\n\\nOCR: Optical Character Recognition', generation_info={'finish_reason': 'stop', 'logprobs': None}), Generation(text='\\n\\nOCR: Optical Character Recognition', generation_info={'finish_reason': 'stop', 'logprobs': None}), Generation(text='\\n\\nOCR: Optical Character Recognition', generation_info={'finish_reason': 'stop', 'logprobs': None})], [Generation(text='\\n\\nAPI: Application Programming Interface', generation_info={'finish_reason': 'stop', 'logprobs': None}), Generation(text='\\n\\nAPI: Application Programming Interface', generation_info={'finish_reason': 'stop', 'logprobs': None}), Generation(text='\\n\\nAPI: Application Programming Interface', generation_info={'finish_reason': 'stop', 'logprobs': None}), Generation(text='\\n\\nAPI - Application Programming Interface', generation_info={'finish_reason': 'stop', 'logprobs': None}), Generation(text='\\n\\nAPI: Application Programming Interface', generation_info={'finish_reason': 'stop', 'logprobs': None})]] llm_output={'token_usage': {'completion_tokens': 80, 'prompt_tokens': 9, 'total_tokens': 89}, 'model_name': 'text-davinci-003'}\n"
     ]
    }
   ],
   "source": [
    "print(llm_result)"
   ]
  },
  {
   "cell_type": "markdown",
   "id": "bd9f0609",
   "metadata": {},
   "source": [
    "# Multiple top response"
   ]
  },
  {
   "cell_type": "code",
   "execution_count": 8,
   "id": "991c7d61",
   "metadata": {},
   "outputs": [
    {
     "name": "stdout",
     "output_type": "stream",
     "text": [
      "2\n"
     ]
    }
   ],
   "source": [
    "print(len(llm_result.generations))"
   ]
  },
  {
   "cell_type": "markdown",
   "id": "4e840f70",
   "metadata": {},
   "source": [
    "# All \"0\" refer to 1st prompt"
   ]
  },
  {
   "cell_type": "code",
   "execution_count": 15,
   "id": "46f5a32c",
   "metadata": {},
   "outputs": [
    {
     "name": "stdout",
     "output_type": "stream",
     "text": [
      "[Generation(text='\\n\\nOCR: Optical Character Recognition', generation_info={'finish_reason': 'stop', 'logprobs': None}), Generation(text='\\n\\nOCR: Optical Character Recognition', generation_info={'finish_reason': 'stop', 'logprobs': None}), Generation(text='\\n\\nOCR: Optical Character Recognition', generation_info={'finish_reason': 'stop', 'logprobs': None}), Generation(text='\\n\\nOCR: Optical Character Recognition', generation_info={'finish_reason': 'stop', 'logprobs': None}), Generation(text='\\n\\nOCR: Optical Character Recognition', generation_info={'finish_reason': 'stop', 'logprobs': None})]\n"
     ]
    }
   ],
   "source": [
    "print(llm_result.generations[0])"
   ]
  },
  {
   "cell_type": "code",
   "execution_count": 12,
   "id": "a7cb10c5",
   "metadata": {},
   "outputs": [
    {
     "name": "stdout",
     "output_type": "stream",
     "text": [
      "text='\\n\\nOCR: Optical Character Recognition' generation_info={'finish_reason': 'stop', 'logprobs': None}\n"
     ]
    }
   ],
   "source": [
    "print(llm_result.generations[0][1])"
   ]
  },
  {
   "cell_type": "code",
   "execution_count": 13,
   "id": "4982e347",
   "metadata": {},
   "outputs": [
    {
     "name": "stdout",
     "output_type": "stream",
     "text": [
      "\n",
      "\n",
      "OCR: Optical Character Recognition\n"
     ]
    }
   ],
   "source": [
    "print(llm_result.generations[0][1].text)"
   ]
  },
  {
   "cell_type": "code",
   "execution_count": 14,
   "id": "d6f4302c",
   "metadata": {},
   "outputs": [
    {
     "name": "stdout",
     "output_type": "stream",
     "text": [
      "{'finish_reason': 'stop', 'logprobs': None}\n"
     ]
    }
   ],
   "source": [
    "print(llm_result.generations[0][1].generation_info)"
   ]
  },
  {
   "cell_type": "code",
   "execution_count": null,
   "id": "e8818e0b",
   "metadata": {},
   "outputs": [],
   "source": []
  }
 ],
 "metadata": {
  "kernelspec": {
   "display_name": "Python 3 (ipykernel)",
   "language": "python",
   "name": "python3"
  },
  "language_info": {
   "codemirror_mode": {
    "name": "ipython",
    "version": 3
   },
   "file_extension": ".py",
   "mimetype": "text/x-python",
   "name": "python",
   "nbconvert_exporter": "python",
   "pygments_lexer": "ipython3",
   "version": "3.8.2"
  }
 },
 "nbformat": 4,
 "nbformat_minor": 5
}
