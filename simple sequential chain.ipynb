{
 "cells": [
  {
   "cell_type": "markdown",
   "id": "92dd612f",
   "metadata": {},
   "source": [
    "# 1. Consider a journal paper on the topic \"threatgpt\"\n",
    "# 2. Find the publication date using 1st chain\n",
    "# 3. Find the difference between the publication date returned and the current date using 2nd chain"
   ]
  },
  {
   "cell_type": "code",
   "execution_count": null,
   "id": "8afcdb76",
   "metadata": {},
   "outputs": [],
   "source": [
    "!pip install arxiv"
   ]
  },
  {
   "cell_type": "code",
   "execution_count": 78,
   "id": "70c3bafc",
   "metadata": {},
   "outputs": [],
   "source": [
    "from langchain.llms import OpenAI\n",
    "from langchain.chains import LLMChain\n",
    "from langchain.prompts import PromptTemplate"
   ]
  },
  {
   "cell_type": "code",
   "execution_count": 79,
   "id": "b8b2b947",
   "metadata": {},
   "outputs": [
    {
     "data": {
      "text/plain": [
       "\"Published: 2023-07-03\\nTitle: From ChatGPT to ThreatGPT: Impact of Generative AI in Cybersecurity and Privacy\\nAuthors: Maanak Gupta, CharanKumar Akiri, Kshitiz Aryal, Eli Parker, Lopamudra Praharaj\\nSummary: Undoubtedly, the evolution of Generative AI (GenAI) models has been the\\nhighlight of digital transformation in the year 2022. As the different GenAI\\nmodels like ChatGPT and Google Bard continue to foster their complexity and\\ncapability, it's critical to understand its consequences from a cybersecurity\\nperspective. Several instances recently have demonstrated the use of GenAI\\ntools in both the defensive and offensive side of cybersecurity, and focusing\\non the social, ethical and privacy implications this technology possesses. This\\nresearch paper highlights the limitations, challenges, potential risks, and\\nopportunities of GenAI in the domain of cybersecurity and privacy. The work\\npresents the vulnerabilities of ChatGPT, which can be exploited by malicious\\nusers to exfiltrate malicious information bypassing the ethical constraints on\\nthe model. This paper demonstrates successful example attacks like Jailbreaks,\\nreverse psychology, and prompt injection attacks on the ChatGPT. The paper also\\ninvestigates how cyber offenders can use the GenAI tools in developing cyber\\nattacks, and explore the scenarios where ChatGPT can be used by adversaries to\\ncreate social engineering attacks, phishing attacks, automated hacking, attack\\npayload generation, malware creation, and polymorphic malware. This paper then\\nexamines defense techniques and uses GenAI tools to improve security measures,\\nincluding cyber defense automation, reporting, threat intelligence, secure code\\ngeneration and detection, attack identification, developing ethical guidelines,\\nincidence response plans, and malware detection. We will also discuss the\\nsocial, legal, and ethical implications of ChatGPT. In conclusion, the paper\\nhighlights open challenges and future directions to make this GenAI secure,\\nsafe, trustworthy, and ethical as the community understands its cybersecurity\\nimpacts.\""
      ]
     },
     "execution_count": 79,
     "metadata": {},
     "output_type": "execute_result"
    }
   ],
   "source": [
    "from langchain.utilities import ArxivAPIWrapper\n",
    "arxiv = ArxivAPIWrapper()\n",
    "docs = arxiv.run(\"threatgpt\")\n",
    "docs"
   ]
  },
  {
   "cell_type": "code",
   "execution_count": 80,
   "id": "222f47da",
   "metadata": {},
   "outputs": [],
   "source": [
    "# This is an LLMChain to find the date of publication of a paper.\n",
    "llm = OpenAI(temperature=.7)\n",
    "template = \"\"\"Identify date of publication\n",
    "Journal: {docs}\n",
    "Output : Date of publication\n",
    "\"\"\"\n",
    "prompt_template = PromptTemplate(input_variables=[\"docs\"], template=template)\n",
    "date_chain = LLMChain(llm=llm, prompt=prompt_template)"
   ]
  },
  {
   "cell_type": "code",
   "execution_count": 81,
   "id": "ab0a53e6",
   "metadata": {},
   "outputs": [],
   "source": [
    "# This is an LLMChain to find the difference between 2 dates.\n",
    "llm = OpenAI(temperature=.7)\n",
    "template = \"\"\"Find the number of days since the journal was published\n",
    "Publication Date: {date}\n",
    "Current Date : July 04, 2023\n",
    "Output : As number of years, months, days\n",
    "\"\"\"\n",
    "prompt_template = PromptTemplate(input_variables=[\"date\"], template=template)\n",
    "diff_date_chain = LLMChain(llm=llm, prompt=prompt_template)"
   ]
  },
  {
   "cell_type": "code",
   "execution_count": 89,
   "id": "e00b289b",
   "metadata": {},
   "outputs": [],
   "source": [
    "# This is the overall chain where we run these two chains in sequence.\n",
    "from langchain.chains import SimpleSequentialChain\n",
    "overall_chain = SimpleSequentialChain(chains=[date_chain, diff_date_chain])"
   ]
  },
  {
   "cell_type": "code",
   "execution_count": 90,
   "id": "5e50b9f3",
   "metadata": {},
   "outputs": [],
   "source": [
    "review = overall_chain.run(docs)"
   ]
  },
  {
   "cell_type": "code",
   "execution_count": 91,
   "id": "c1b26a1c",
   "metadata": {},
   "outputs": [
    {
     "name": "stdout",
     "output_type": "stream",
     "text": [
      "\n",
      "Answer: 1 day\n"
     ]
    }
   ],
   "source": [
    "print(review)"
   ]
  }
 ],
 "metadata": {
  "kernelspec": {
   "display_name": "Python 3 (ipykernel)",
   "language": "python",
   "name": "python3"
  },
  "language_info": {
   "codemirror_mode": {
    "name": "ipython",
    "version": 3
   },
   "file_extension": ".py",
   "mimetype": "text/x-python",
   "name": "python",
   "nbconvert_exporter": "python",
   "pygments_lexer": "ipython3",
   "version": "3.8.2"
  }
 },
 "nbformat": 4,
 "nbformat_minor": 5
}
