{
 "cells": [
  {
   "cell_type": "code",
   "execution_count": 1,
   "id": "0cd1d384",
   "metadata": {},
   "outputs": [],
   "source": [
    "import os\n",
    "import openai\n",
    "\n",
    "openai.api_key = os.getenv(\"OPENAI_API_KEY_SID\")"
   ]
  },
  {
   "cell_type": "code",
   "execution_count": 2,
   "id": "88d2ca53",
   "metadata": {},
   "outputs": [],
   "source": [
    "from langchain import OpenAI,PromptTemplate"
   ]
  },
  {
   "cell_type": "code",
   "execution_count": 3,
   "id": "b44889d6",
   "metadata": {},
   "outputs": [],
   "source": [
    "template = '''\n",
    "Question : Find acronym for {acronym}\n",
    "Answer : {format}\n",
    "'''"
   ]
  },
  {
   "cell_type": "code",
   "execution_count": 4,
   "id": "d6a9a098",
   "metadata": {},
   "outputs": [],
   "source": [
    "prompt = PromptTemplate(input_variables=[\"acronym\",\"format\"],template=template)"
   ]
  },
  {
   "cell_type": "code",
   "execution_count": 5,
   "id": "9a6ad29c",
   "metadata": {},
   "outputs": [],
   "source": [
    "str_prompt = prompt.format(acronym=\"OCR\",format=\"acronym : result\")"
   ]
  },
  {
   "cell_type": "code",
   "execution_count": 7,
   "id": "cb107525",
   "metadata": {},
   "outputs": [],
   "source": [
    "llm = OpenAI()"
   ]
  },
  {
   "cell_type": "code",
   "execution_count": 8,
   "id": "2cc506b9",
   "metadata": {},
   "outputs": [],
   "source": [
    "from langchain import LLMChain\n",
    "\n",
    "llmchain = LLMChain(prompt= prompt, llm=llm)"
   ]
  },
  {
   "cell_type": "code",
   "execution_count": 9,
   "id": "f4d589b2",
   "metadata": {},
   "outputs": [],
   "source": [
    "llm_result = llmchain.run(acronym=\"OCR\",format=\"acronym : result\")"
   ]
  },
  {
   "cell_type": "code",
   "execution_count": 10,
   "id": "3894db37",
   "metadata": {},
   "outputs": [
    {
     "name": "stdout",
     "output_type": "stream",
     "text": [
      "OCR : Optical Character Recognition\n"
     ]
    }
   ],
   "source": [
    "print(llm_result)"
   ]
  },
  {
   "cell_type": "code",
   "execution_count": 11,
   "id": "7b112bb6",
   "metadata": {},
   "outputs": [],
   "source": [
    "llm_result = llmchain.run(acronym=[\"OCR\",\"API\"],format=\"acronym : result\")"
   ]
  },
  {
   "cell_type": "code",
   "execution_count": 12,
   "id": "fbed5b3d",
   "metadata": {},
   "outputs": [
    {
     "name": "stdout",
     "output_type": "stream",
     "text": [
      "OCR : Optical Character Recognition\n",
      "API : Application Programming Interface\n"
     ]
    }
   ],
   "source": [
    "print(llm_result)"
   ]
  },
  {
   "cell_type": "code",
   "execution_count": 19,
   "id": "8eb84cf2",
   "metadata": {},
   "outputs": [],
   "source": [
    "llm_result = llmchain.run(\n",
    "    {\"acronym\":[\"OCR\",\"API\"],\n",
    "     \"format\" : \"acronym : result\"\n",
    "    }\n",
    ")"
   ]
  },
  {
   "cell_type": "code",
   "execution_count": 20,
   "id": "9fdfef8d",
   "metadata": {},
   "outputs": [
    {
     "name": "stdout",
     "output_type": "stream",
     "text": [
      "OCR : Optical Character Recognition \n",
      "API : Application Program Interface\n"
     ]
    }
   ],
   "source": [
    "print(llm_result)"
   ]
  }
 ],
 "metadata": {
  "kernelspec": {
   "display_name": "Python 3 (ipykernel)",
   "language": "python",
   "name": "python3"
  },
  "language_info": {
   "codemirror_mode": {
    "name": "ipython",
    "version": 3
   },
   "file_extension": ".py",
   "mimetype": "text/x-python",
   "name": "python",
   "nbconvert_exporter": "python",
   "pygments_lexer": "ipython3",
   "version": "3.8.2"
  }
 },
 "nbformat": 4,
 "nbformat_minor": 5
}
