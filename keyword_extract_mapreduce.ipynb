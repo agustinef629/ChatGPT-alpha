{
  "nbformat": 4,
  "nbformat_minor": 0,
  "metadata": {
    "colab": {
      "provenance": []
    },
    "kernelspec": {
      "name": "python3",
      "display_name": "Python 3"
    },
    "language_info": {
      "name": "python"
    }
  },
  "cells": [
    {
      "cell_type": "code",
      "source": [
        "!pip install langchain openai"
      ],
      "metadata": {
        "colab": {
          "base_uri": "https://localhost:8080/"
        },
        "id": "U6QId9DWY2iq",
        "outputId": "17ed52d1-9939-40e2-a5fa-c39756eaece5"
      },
      "execution_count": 1,
      "outputs": [
        {
          "output_type": "stream",
          "name": "stdout",
          "text": [
            "Collecting langchain\n",
            "  Downloading langchain-0.0.273-py3-none-any.whl (1.6 MB)\n",
            "\u001b[2K     \u001b[90m━━━━━━━━━━━━━━━━━━━━━━━━━━━━━━━━━━━━━━━━\u001b[0m \u001b[32m1.6/1.6 MB\u001b[0m \u001b[31m7.9 MB/s\u001b[0m eta \u001b[36m0:00:00\u001b[0m\n",
            "\u001b[?25hCollecting openai\n",
            "  Downloading openai-0.27.9-py3-none-any.whl (75 kB)\n",
            "\u001b[2K     \u001b[90m━━━━━━━━━━━━━━━━━━━━━━━━━━━━━━━━━━━━━━━━\u001b[0m \u001b[32m75.5/75.5 kB\u001b[0m \u001b[31m7.4 MB/s\u001b[0m eta \u001b[36m0:00:00\u001b[0m\n",
            "\u001b[?25hRequirement already satisfied: PyYAML>=5.3 in /usr/local/lib/python3.10/dist-packages (from langchain) (6.0.1)\n",
            "Requirement already satisfied: SQLAlchemy<3,>=1.4 in /usr/local/lib/python3.10/dist-packages (from langchain) (2.0.20)\n",
            "Requirement already satisfied: aiohttp<4.0.0,>=3.8.3 in /usr/local/lib/python3.10/dist-packages (from langchain) (3.8.5)\n",
            "Requirement already satisfied: async-timeout<5.0.0,>=4.0.0 in /usr/local/lib/python3.10/dist-packages (from langchain) (4.0.3)\n",
            "Collecting dataclasses-json<0.6.0,>=0.5.7 (from langchain)\n",
            "  Downloading dataclasses_json-0.5.14-py3-none-any.whl (26 kB)\n",
            "Collecting langsmith<0.1.0,>=0.0.21 (from langchain)\n",
            "  Downloading langsmith-0.0.26-py3-none-any.whl (34 kB)\n",
            "Requirement already satisfied: numexpr<3.0.0,>=2.8.4 in /usr/local/lib/python3.10/dist-packages (from langchain) (2.8.5)\n",
            "Requirement already satisfied: numpy<2,>=1 in /usr/local/lib/python3.10/dist-packages (from langchain) (1.23.5)\n",
            "Requirement already satisfied: pydantic<3,>=1 in /usr/local/lib/python3.10/dist-packages (from langchain) (2.2.1)\n",
            "Requirement already satisfied: requests<3,>=2 in /usr/local/lib/python3.10/dist-packages (from langchain) (2.31.0)\n",
            "Requirement already satisfied: tenacity<9.0.0,>=8.1.0 in /usr/local/lib/python3.10/dist-packages (from langchain) (8.2.3)\n",
            "Requirement already satisfied: tqdm in /usr/local/lib/python3.10/dist-packages (from openai) (4.66.1)\n",
            "Requirement already satisfied: attrs>=17.3.0 in /usr/local/lib/python3.10/dist-packages (from aiohttp<4.0.0,>=3.8.3->langchain) (23.1.0)\n",
            "Requirement already satisfied: charset-normalizer<4.0,>=2.0 in /usr/local/lib/python3.10/dist-packages (from aiohttp<4.0.0,>=3.8.3->langchain) (3.2.0)\n",
            "Requirement already satisfied: multidict<7.0,>=4.5 in /usr/local/lib/python3.10/dist-packages (from aiohttp<4.0.0,>=3.8.3->langchain) (6.0.4)\n",
            "Requirement already satisfied: yarl<2.0,>=1.0 in /usr/local/lib/python3.10/dist-packages (from aiohttp<4.0.0,>=3.8.3->langchain) (1.9.2)\n",
            "Requirement already satisfied: frozenlist>=1.1.1 in /usr/local/lib/python3.10/dist-packages (from aiohttp<4.0.0,>=3.8.3->langchain) (1.4.0)\n",
            "Requirement already satisfied: aiosignal>=1.1.2 in /usr/local/lib/python3.10/dist-packages (from aiohttp<4.0.0,>=3.8.3->langchain) (1.3.1)\n",
            "Collecting marshmallow<4.0.0,>=3.18.0 (from dataclasses-json<0.6.0,>=0.5.7->langchain)\n",
            "  Downloading marshmallow-3.20.1-py3-none-any.whl (49 kB)\n",
            "\u001b[2K     \u001b[90m━━━━━━━━━━━━━━━━━━━━━━━━━━━━━━━━━━━━━━━━\u001b[0m \u001b[32m49.4/49.4 kB\u001b[0m \u001b[31m4.5 MB/s\u001b[0m eta \u001b[36m0:00:00\u001b[0m\n",
            "\u001b[?25hCollecting typing-inspect<1,>=0.4.0 (from dataclasses-json<0.6.0,>=0.5.7->langchain)\n",
            "  Downloading typing_inspect-0.9.0-py3-none-any.whl (8.8 kB)\n",
            "Requirement already satisfied: annotated-types>=0.4.0 in /usr/local/lib/python3.10/dist-packages (from pydantic<3,>=1->langchain) (0.5.0)\n",
            "Requirement already satisfied: pydantic-core==2.6.1 in /usr/local/lib/python3.10/dist-packages (from pydantic<3,>=1->langchain) (2.6.1)\n",
            "Requirement already satisfied: typing-extensions>=4.6.1 in /usr/local/lib/python3.10/dist-packages (from pydantic<3,>=1->langchain) (4.7.1)\n",
            "Requirement already satisfied: idna<4,>=2.5 in /usr/local/lib/python3.10/dist-packages (from requests<3,>=2->langchain) (3.4)\n",
            "Requirement already satisfied: urllib3<3,>=1.21.1 in /usr/local/lib/python3.10/dist-packages (from requests<3,>=2->langchain) (2.0.4)\n",
            "Requirement already satisfied: certifi>=2017.4.17 in /usr/local/lib/python3.10/dist-packages (from requests<3,>=2->langchain) (2023.7.22)\n",
            "Requirement already satisfied: greenlet!=0.4.17 in /usr/local/lib/python3.10/dist-packages (from SQLAlchemy<3,>=1.4->langchain) (2.0.2)\n",
            "Requirement already satisfied: packaging>=17.0 in /usr/local/lib/python3.10/dist-packages (from marshmallow<4.0.0,>=3.18.0->dataclasses-json<0.6.0,>=0.5.7->langchain) (23.1)\n",
            "Collecting mypy-extensions>=0.3.0 (from typing-inspect<1,>=0.4.0->dataclasses-json<0.6.0,>=0.5.7->langchain)\n",
            "  Downloading mypy_extensions-1.0.0-py3-none-any.whl (4.7 kB)\n",
            "Installing collected packages: mypy-extensions, marshmallow, typing-inspect, openai, langsmith, dataclasses-json, langchain\n",
            "Successfully installed dataclasses-json-0.5.14 langchain-0.0.273 langsmith-0.0.26 marshmallow-3.20.1 mypy-extensions-1.0.0 openai-0.27.9 typing-inspect-0.9.0\n"
          ]
        }
      ]
    },
    {
      "cell_type": "code",
      "source": [
        "import openai\n",
        "\n",
        "openai.api_key = your_key"
      ],
      "metadata": {
        "id": "fQzN8mchb-0D"
      },
      "execution_count": 3,
      "outputs": []
    },
    {
      "cell_type": "code",
      "source": [
        "from langchain.chat_models import ChatOpenAI\n",
        "\n",
        "llm=ChatOpenAI(temperature=0, model=\"gpt-3.5-turbo-0613\",openai_api_key = openai.api_key)"
      ],
      "metadata": {
        "id": "k1aMozKbcBJJ"
      },
      "execution_count": 4,
      "outputs": []
    },
    {
      "cell_type": "code",
      "execution_count": 10,
      "metadata": {
        "colab": {
          "base_uri": "https://localhost:8080/"
        },
        "id": "nwzLnlEFYIVA",
        "outputId": "6566b007-b858-4e70-e289-e8736dba6293"
      },
      "outputs": [
        {
          "output_type": "stream",
          "name": "stdout",
          "text": [
            "input_variables=['docs'] output_parser=None partial_variables={} template='List all the technical words in the text provided. Do not add any other information\\n{docs}\"\\n' template_format='f-string' validate_template=True\n"
          ]
        }
      ],
      "source": [
        "from langchain.prompts import PromptTemplate\n",
        "from langchain.chains import LLMChain\n",
        "\n",
        "# Map\n",
        "map_template = \"\"\"List all the technical words in the text provided. Do not add any other information\n",
        "{docs}\"\n",
        "\"\"\"\n",
        "map_prompt = PromptTemplate.from_template(map_template)\n",
        "print(map_prompt)\n",
        "map_chain = LLMChain(llm=llm, prompt=map_prompt)"
      ]
    },
    {
      "cell_type": "code",
      "source": [
        "from langchain.chains import StuffDocumentsChain, ReduceDocumentsChain, MapReduceDocumentsChain\n",
        "\n",
        "# Reduce\n",
        "reduce_template = \"\"\"The following is a list of keywords:\n",
        "{doc_keywords}\n",
        "Take these and distill it into a final, consolidated list of keywords in alphabetical order.\n",
        "\"\"\"\n",
        "reduce_prompt = PromptTemplate.from_template(reduce_template)\n",
        "reduce_chain = LLMChain(llm=llm, prompt=reduce_prompt)\n",
        "\n",
        "# Takes a list of documents, combines them into a single string, and passes this to an LLMChain\n",
        "combine_documents_chain = StuffDocumentsChain(\n",
        "    llm_chain=reduce_chain,\n",
        "    document_variable_name=\"doc_keywords\"\n",
        ")\n",
        "\n",
        "# Combines and iteravely reduces the mapped documents\n",
        "reduce_documents_chain = ReduceDocumentsChain(\n",
        "    # This is final chain that is called.\n",
        "    combine_documents_chain=combine_documents_chain,\n",
        "    # If documents exceed context for `StuffDocumentsChain`\n",
        "    collapse_documents_chain=combine_documents_chain,\n",
        "    # The maximum number of tokens to group documents into.\n",
        "    token_max=4000,\n",
        ")"
      ],
      "metadata": {
        "id": "OtYHGxVgYXza"
      },
      "execution_count": 27,
      "outputs": []
    },
    {
      "cell_type": "code",
      "source": [
        "# Combining documents by mapping a chain over them, then combining results\n",
        "map_reduce_chain = MapReduceDocumentsChain(\n",
        "    # Map chain\n",
        "    llm_chain=map_chain,\n",
        "    # Reduce chain\n",
        "    reduce_documents_chain=reduce_documents_chain,\n",
        "    # The variable name in the llm_chain to put the documents in\n",
        "    document_variable_name=\"docs\",\n",
        "    # Return the results of the map steps in the output\n",
        "    return_intermediate_steps=False,\n",
        ")\n"
      ],
      "metadata": {
        "id": "t7tpUNoyYYla"
      },
      "execution_count": 28,
      "outputs": []
    },
    {
      "cell_type": "code",
      "source": [
        "!pip install pypdf"
      ],
      "metadata": {
        "colab": {
          "base_uri": "https://localhost:8080/"
        },
        "id": "JuLapvocfZKI",
        "outputId": "ccbdd901-ebd7-4ae3-a8c7-d6c81fd47da9"
      },
      "execution_count": 29,
      "outputs": [
        {
          "output_type": "stream",
          "name": "stdout",
          "text": [
            "Requirement already satisfied: pypdf in /usr/local/lib/python3.10/dist-packages (3.15.2)\n"
          ]
        }
      ]
    },
    {
      "cell_type": "code",
      "source": [
        "from langchain.document_loaders import PyPDFLoader\n",
        "\n",
        "loader = PyPDFLoader(\"3.SLM Foundation of Social Thought.pdf\")\n",
        "data = loader.load()\n",
        "\n",
        "print(len(data))\n",
        "print(len(data[100].page_content))"
      ],
      "metadata": {
        "colab": {
          "base_uri": "https://localhost:8080/"
        },
        "id": "Iu00niJRfIdx",
        "outputId": "e103ffb6-a5f8-40a0-d7ae-c76a00ffbab9"
      },
      "execution_count": 30,
      "outputs": [
        {
          "output_type": "stream",
          "name": "stdout",
          "text": [
            "148\n",
            "2305\n"
          ]
        }
      ]
    },
    {
      "cell_type": "code",
      "source": [
        "print(data[100].page_content)\n",
        "text = data[100].page_content"
      ],
      "metadata": {
        "colab": {
          "base_uri": "https://localhost:8080/"
        },
        "id": "tggEM7S2gFlL",
        "outputId": "ecf903b1-234c-4b50-ad9d-f401bceb7884"
      },
      "execution_count": 31,
      "outputs": [
        {
          "output_type": "stream",
          "name": "stdout",
          "text": [
            "Socialization and  Social  Control  Module  97  \n",
            " under the direct control of the government who take care of his/her population  \n",
            "and trying  to provide  basic  essentials  with security.  \n",
            "In modern  times,  there  are different  types  of government  with varied  \n",
            "philosophies like democracy, communism, dictatorship and others. In modern  \n",
            "societies  government  make  rules  and regulation  which  implemented  and \n",
            "guarded  with the help of given  constitution  of a particular  country  or state.  \n",
            "12. Culture: Culture is a very extensive term; it simply defined as the manmade  \n",
            "part of our surroundings. It helps to influencing the nature and social behaviour  \n",
            "of an individual  in present  society.  \n",
            "3.2.3.  Conformity  \n",
            " \n",
            "Introduction  \n",
            "Conformity  studies  stresses  on persons  to conform  the prospects  of a group,  \n",
            "association, institute, society or leader. It is a category of social effect comprising a  \n",
            "variation in trust or actions in command to fitting in group. It may include the physical  \n",
            "occurrence of others or make -believe linking the pressure of social norms or hope under  \n",
            "the group  influence.  \n",
            "Conformity means social control is recognized by encouraging persons to conform  \n",
            "and follow social norms, equally through normal and informal means. It is the action of  \n",
            "corresponding approaches, views, and actions to group norms. Harvard psychologists  \n",
            "Herbert Kelman identified there major types of conformity: compliance, identification and  \n",
            "internalisation.   \n",
            "Notes  \n",
            " \n",
            " \n",
            "Fig. 3.2.3:  Types  of conformity  \n",
            " \n",
            "Types  of conformity  \n",
            "1. Compliance:  Compliance  is the bottom  level of conformity.  It is open  \n",
            "conformity  or may be trusts  one’s own new beliefs  independent.  It is \n",
            "encouraged by the necessary for support and the panic of being rejected. It  \n",
            "occurs when individual publicly change one ’s feeling, behaviour or attitude but  \n",
            "not an individually or secretly. For example, A young person dresses in a  \n",
            "definite  charm  because  he/she  wants to  fit in with the  rest of his social crowds.  \n",
            "2. Identification:  Identification  is conforming  to someone  who is liked and \n",
            "respected  such  as celebrity  like Akshay  Kumar,  Ajay Devgan,  Kangana  Ranaut,  \n",
            "Alia Bhatt  and others  or like close  relatives  or close  friends.  This can be \n",
            "\n"
          ]
        }
      ]
    },
    {
      "cell_type": "code",
      "source": [
        "from langchain.text_splitter import RecursiveCharacterTextSplitter\n",
        "\n",
        "text_splitter = RecursiveCharacterTextSplitter(chunk_size = 1000, chunk_overlap = 0)\n",
        "#all_splits = text_splitter.split_documents(docs)"
      ],
      "metadata": {
        "id": "sv8hs1o-eFRl"
      },
      "execution_count": 32,
      "outputs": []
    },
    {
      "cell_type": "code",
      "source": [
        "# For checking\n",
        "# Create Document objects for each text chunk\n",
        "from langchain.docstore.document import Document\n",
        "\n",
        "texts = text_splitter.split_text( data[100].page_content)\n",
        "docs = [Document(page_content=t) for t in texts[:]]"
      ],
      "metadata": {
        "id": "p_bJF4ezgI0p"
      },
      "execution_count": 33,
      "outputs": []
    },
    {
      "cell_type": "code",
      "source": [
        "print(len(docs))"
      ],
      "metadata": {
        "colab": {
          "base_uri": "https://localhost:8080/"
        },
        "id": "JABiHvUohkNk",
        "outputId": "ab17d73e-1f3d-49e1-acad-3b77d8d846d9"
      },
      "execution_count": 34,
      "outputs": [
        {
          "output_type": "stream",
          "name": "stdout",
          "text": [
            "3\n"
          ]
        }
      ]
    },
    {
      "cell_type": "code",
      "source": [
        "!pip install tiktoken"
      ],
      "metadata": {
        "colab": {
          "base_uri": "https://localhost:8080/"
        },
        "id": "idqw81tugzX_",
        "outputId": "8bd6b7f9-0304-46dd-cb61-ddde2f1afbbc"
      },
      "execution_count": 35,
      "outputs": [
        {
          "output_type": "stream",
          "name": "stdout",
          "text": [
            "Requirement already satisfied: tiktoken in /usr/local/lib/python3.10/dist-packages (0.4.0)\n",
            "Requirement already satisfied: regex>=2022.1.18 in /usr/local/lib/python3.10/dist-packages (from tiktoken) (2023.6.3)\n",
            "Requirement already satisfied: requests>=2.26.0 in /usr/local/lib/python3.10/dist-packages (from tiktoken) (2.31.0)\n",
            "Requirement already satisfied: charset-normalizer<4,>=2 in /usr/local/lib/python3.10/dist-packages (from requests>=2.26.0->tiktoken) (3.2.0)\n",
            "Requirement already satisfied: idna<4,>=2.5 in /usr/local/lib/python3.10/dist-packages (from requests>=2.26.0->tiktoken) (3.4)\n",
            "Requirement already satisfied: urllib3<3,>=1.21.1 in /usr/local/lib/python3.10/dist-packages (from requests>=2.26.0->tiktoken) (2.0.4)\n",
            "Requirement already satisfied: certifi>=2017.4.17 in /usr/local/lib/python3.10/dist-packages (from requests>=2.26.0->tiktoken) (2023.7.22)\n"
          ]
        }
      ]
    },
    {
      "cell_type": "code",
      "source": [
        "print(map_reduce_chain.run(docs))"
      ],
      "metadata": {
        "colab": {
          "base_uri": "https://localhost:8080/"
        },
        "id": "Onm4UmAEgh3-",
        "outputId": "5f283dad-72ea-450d-ee9b-3d648a48a1b2"
      },
      "execution_count": 36,
      "outputs": [
        {
          "output_type": "stream",
          "name": "stdout",
          "text": [
            "- Actions\n",
            "- Akshay Kumar\n",
            "- Alia Bhatt\n",
            "- Association\n",
            "- Attitude\n",
            "- Beliefs\n",
            "- Celebrity\n",
            "- Change\n",
            "- Command\n",
            "- Compliance\n",
            "- Conformity\n",
            "- Constitution\n",
            "- Culture\n",
            "- Democracy\n",
            "- Dictatorship\n",
            "- Encouraging\n",
            "- Essentials\n",
            "- Feeling\n",
            "- Fig. 3.2.3\n",
            "- Fitting\n",
            "- Follow\n",
            "- Friends\n",
            "- Government\n",
            "- Group\n",
            "- Harvard psychologists\n",
            "- Hope\n",
            "- Identification\n",
            "- Individual\n",
            "- Influence\n",
            "- Influencing\n",
            "- Informal\n",
            "- Institute\n",
            "- Internalisation\n",
            "- Kangana Ranaut\n",
            "- Leader\n",
            "- Liking\n",
            "- Linking\n",
            "- Major\n",
            "- Manmade\n",
            "- Modern\n",
            "- Nature\n",
            "- Necessary\n",
            "- Norms\n",
            "- Open\n",
            "- Panic\n",
            "- Persons\n",
            "- Philosophies\n",
            "- Physical\n",
            "- Population\n",
            "- Pressure\n",
            "- Rejected\n",
            "- Regulation\n",
            "- Respected\n",
            "- Rules\n",
            "- Security\n",
            "- Social behavior\n",
            "- Social control\n",
            "- Social crowds\n",
            "- Social effect\n",
            "- Social norms\n",
            "- Society\n",
            "- Studies\n",
            "- Surroundings\n",
            "- Trust\n",
            "- Types\n",
            "- Views\n"
          ]
        }
      ]
    }
  ]
}