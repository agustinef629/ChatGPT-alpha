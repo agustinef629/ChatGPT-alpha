{
 "cells": [
  {
   "cell_type": "code",
   "execution_count": 57,
   "id": "069aaf6e",
   "metadata": {},
   "outputs": [],
   "source": [
    "import os\n",
    "import openai\n",
    "\n",
    "openai.api_key = os.getenv(\"OPENAI_API_KEY\")\n"
   ]
  },
  {
   "cell_type": "code",
   "execution_count": 47,
   "id": "bf95e851",
   "metadata": {},
   "outputs": [],
   "source": [
    "from langchain.llms import OpenAI\n",
    "llm = OpenAI(model_name=\"text-davinci-003\",temperature=0.2,max_tokens=30)"
   ]
  },
  {
   "cell_type": "code",
   "execution_count": 49,
   "id": "def0122e",
   "metadata": {},
   "outputs": [
    {
     "data": {
      "text/plain": [
       "'\\n\\n[[\"Alex\", \"Person\"], [\"India\", \"Location\"]]'"
      ]
     },
     "execution_count": 49,
     "metadata": {},
     "output_type": "execute_result"
    }
   ],
   "source": [
    "llm(\"Perform NER. Alex lives in India. Output as json[entity,type]\")"
   ]
  },
  {
   "cell_type": "code",
   "execution_count": 50,
   "id": "4448356c",
   "metadata": {},
   "outputs": [],
   "source": [
    "llm_result = llm.generate([\"Perform NER. Alex lives in India\",                        \n",
    "                           \"what is python\"]*2)"
   ]
  },
  {
   "cell_type": "code",
   "execution_count": 51,
   "id": "66f01283",
   "metadata": {},
   "outputs": [
    {
     "name": "stdout",
     "output_type": "stream",
     "text": [
      "generations=[[Generation(text='\\n\\nAlex: Person\\nIndia: Location', generation_info={'finish_reason': 'stop', 'logprobs': None})], [Generation(text='\\n\\nPython is a high-level, interpreted, general-purpose programming language. It is a powerful and versatile language that is used for a wide', generation_info={'finish_reason': 'length', 'logprobs': None})], [Generation(text='\\n\\nAlex: PERSON\\nIndia: GPE', generation_info={'finish_reason': 'stop', 'logprobs': None})], [Generation(text='\\n\\nPython is a high-level, interpreted, general-purpose programming language. It is a powerful, object-oriented language used for a wide', generation_info={'finish_reason': 'length', 'logprobs': None})]] llm_output={'token_usage': {'prompt_tokens': 24, 'total_tokens': 103, 'completion_tokens': 79}, 'model_name': 'text-davinci-003'}\n"
     ]
    }
   ],
   "source": [
    "print(llm_result)"
   ]
  },
  {
   "cell_type": "code",
   "execution_count": 52,
   "id": "de33d1f4",
   "metadata": {},
   "outputs": [
    {
     "name": "stdout",
     "output_type": "stream",
     "text": [
      "\n",
      "\n",
      "Python is a high-level, interpreted, general-purpose programming language. It is a powerful and versatile language that is used for a wide\n"
     ]
    }
   ],
   "source": [
    "print(llm_result.generations[1][0].text)"
   ]
  },
  {
   "cell_type": "code",
   "execution_count": 53,
   "id": "1f2b7242",
   "metadata": {},
   "outputs": [
    {
     "name": "stdout",
     "output_type": "stream",
     "text": [
      "text='\\n\\nPython is a high-level, interpreted, general-purpose programming language. It is a powerful, object-oriented language used for a wide' generation_info={'finish_reason': 'length', 'logprobs': None}\n"
     ]
    }
   ],
   "source": [
    "print(llm_result.generations[3][0])"
   ]
  },
  {
   "cell_type": "code",
   "execution_count": 54,
   "id": "d9dfe3c4",
   "metadata": {},
   "outputs": [
    {
     "name": "stdout",
     "output_type": "stream",
     "text": [
      "\u001b[1mOpenAI\u001b[0m\n",
      "Params: {'model_name': 'text-davinci-003', 'temperature': 0.7, 'max_tokens': 256, 'top_p': 1, 'frequency_penalty': 0, 'presence_penalty': 0, 'n': 1, 'request_timeout': None, 'logit_bias': {}}\n"
     ]
    }
   ],
   "source": [
    "from langchain.llms import OpenAI\n",
    "\n",
    "llm = OpenAI()\n",
    "print(llm)"
   ]
  },
  {
   "cell_type": "code",
   "execution_count": 56,
   "id": "305f226d",
   "metadata": {},
   "outputs": [
    {
     "name": "stdout",
     "output_type": "stream",
     "text": [
      "\u001b[1mOpenAI\u001b[0m\n",
      "Params: {'model_name': 'text-davinci-003', 'temperature': 0.7, 'max_tokens': 256, 'top_p': 1, 'frequency_penalty': 0, 'presence_penalty': 0, 'n': 1, 'request_timeout': None, 'logit_bias': {}}\n"
     ]
    }
   ],
   "source": [
    "print(llm)"
   ]
  },
  {
   "cell_type": "code",
   "execution_count": 55,
   "id": "524fe0f6",
   "metadata": {},
   "outputs": [
    {
     "name": "stdout",
     "output_type": "stream",
     "text": [
      "verbose=False callbacks=None callback_manager=None client=<class 'openai.api_resources.chat_completion.ChatCompletion'> model_name='gpt-3.5-turbo' temperature=0.7 model_kwargs={} openai_api_key=None openai_api_base=None openai_organization=None openai_proxy=None request_timeout=None max_retries=6 streaming=False n=1 max_tokens=None\n"
     ]
    }
   ],
   "source": [
    "from langchain.chat_models import ChatOpenAI\n",
    "\n",
    "chat_model = ChatOpenAI()\n",
    "print(chat_model)"
   ]
  }
 ],
 "metadata": {
  "kernelspec": {
   "display_name": "Python 3 (ipykernel)",
   "language": "python",
   "name": "python3"
  },
  "language_info": {
   "codemirror_mode": {
    "name": "ipython",
    "version": 3
   },
   "file_extension": ".py",
   "mimetype": "text/x-python",
   "name": "python",
   "nbconvert_exporter": "python",
   "pygments_lexer": "ipython3",
   "version": "3.8.2"
  }
 },
 "nbformat": 4,
 "nbformat_minor": 5
}
