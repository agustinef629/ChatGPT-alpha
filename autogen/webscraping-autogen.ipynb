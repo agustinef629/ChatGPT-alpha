{
 "cells": [
  {
   "cell_type": "code",
   "execution_count": 8,
   "id": "0241870e-d563-4128-9ff4-4825802a8aa8",
   "metadata": {},
   "outputs": [],
   "source": [
    "import autogen"
   ]
  },
  {
   "cell_type": "code",
   "execution_count": 9,
   "id": "85951717-1522-4566-941f-2fcc28643463",
   "metadata": {},
   "outputs": [],
   "source": [
    "config_list = [{'model': 'gpt-3.5-turbo', 'api_key': your_key},]"
   ]
  },
  {
   "cell_type": "code",
   "execution_count": 13,
   "id": "9f3d057f-5d91-457c-b51a-192b1d7fe946",
   "metadata": {},
   "outputs": [],
   "source": [
    "user_proxy = autogen.UserProxyAgent(name = \"user_proxy\",\n",
    "                                   human_input_mode=\"NEVER\")"
   ]
  },
  {
   "cell_type": "code",
   "execution_count": 11,
   "id": "410f2d21-c614-4900-8d88-b8960946912d",
   "metadata": {},
   "outputs": [],
   "source": [
    "assistant = autogen.AssistantAgent(\n",
    "    name = \"assistant\",\n",
    "    llm_config = {\n",
    "         \"config_list\": config_list\n",
    "    }\n",
    ")"
   ]
  },
  {
   "cell_type": "code",
   "execution_count": 12,
   "id": "94de8911-003a-41c6-a9b2-e4bcf247d965",
   "metadata": {},
   "outputs": [
    {
     "name": "stdout",
     "output_type": "stream",
     "text": [
      "\u001b[33muser_proxy\u001b[0m (to assistant):\n",
      "\n",
      "When was langchain introduced? Are there better frameworks now\n",
      "\n",
      "--------------------------------------------------------------------------------\n",
      "\u001b[33massistant\u001b[0m (to user_proxy):\n",
      "\n",
      "To find out when LangChain was introduced and if there are better frameworks now, we can start by searching for information online. Let me do that for you.\n",
      "\n",
      "Please wait while I search for the information.\n",
      "\n",
      "--------------------------------------------------------------------------------\n"
     ]
    },
    {
     "name": "stdin",
     "output_type": "stream",
     "text": [
      "Provide feedback to assistant. Press enter to skip and use auto-reply, or type 'exit' to end the conversation:  \n"
     ]
    },
    {
     "name": "stdout",
     "output_type": "stream",
     "text": [
      "\u001b[31m\n",
      ">>>>>>>> NO HUMAN INPUT RECEIVED.\u001b[0m\n",
      "\u001b[31m\n",
      ">>>>>>>> USING AUTO REPLY...\u001b[0m\n",
      "\u001b[33muser_proxy\u001b[0m (to assistant):\n",
      "\n",
      "\n",
      "\n",
      "--------------------------------------------------------------------------------\n",
      "\u001b[33massistant\u001b[0m (to user_proxy):\n",
      "\n",
      "Apologies, but as an AI text-based assistant, I do not have the capability to browse the web. However, I can provide you with some guidance on how to find the information you're looking for.\n",
      "\n",
      "To find out when LangChain was introduced and if there are better frameworks now, you can follow these steps:\n",
      "\n",
      "1. Search for \"LangChain introduction\" or \"LangChain release date\" on a search engine like Google.\n",
      "2. Look for official websites, blogs, or articles related to LangChain that provide information about its introduction or release date.\n",
      "3. Once you have the release date, you can search for information on newer frameworks to see if there are any better alternatives available.\n",
      "\n",
      "Remember to take into account the credibility and up-to-date information of the sources you find. It's always a good idea to check multiple sources to ensure accuracy.\n",
      "\n",
      "Once you have gathered the necessary information, please let me know, and I'll be happy to assist you further.\n",
      "\n",
      "--------------------------------------------------------------------------------\n"
     ]
    },
    {
     "name": "stdin",
     "output_type": "stream",
     "text": [
      "Provide feedback to assistant. Press enter to skip and use auto-reply, or type 'exit' to end the conversation:  exit\n"
     ]
    }
   ],
   "source": [
    "user_proxy.initiate_chat(assistant, message=\"When was langchain introduced? Are there better frameworks now\")"
   ]
  },
  {
   "cell_type": "code",
   "execution_count": 14,
   "id": "bba5e7fd-c4a7-4aa4-b79a-e90c71be3a12",
   "metadata": {},
   "outputs": [
    {
     "name": "stdout",
     "output_type": "stream",
     "text": [
      "\u001b[33muser_proxy\u001b[0m (to assistant):\n",
      "\n",
      "I need you to write a Python Script to do the following:\n",
      "                                 1. Go to langchain documents page for python\n",
      "                                 2. Search for the topic on document loaders in langchain used for accessing pdf content\n",
      "                                 3. Gather the results. No more than 5\n",
      "                                 4. Print the result on the screen\n",
      "\n",
      "--------------------------------------------------------------------------------\n",
      "\u001b[33massistant\u001b[0m (to user_proxy):\n",
      "\n",
      "Here is a Python script that fulfills your requirements:\n",
      "\n",
      "```python\n",
      "# filename: langchain_document_loader.py\n",
      "from bs4 import BeautifulSoup\n",
      "import requests\n",
      "\n",
      "# Step 1: Go to the langchain documents page for python\n",
      "url = \"https://www.langchain.com/doc/python\"\n",
      "response = requests.get(url)\n",
      "soup = BeautifulSoup(response.text, \"html.parser\")\n",
      "\n",
      "# Step 2: Search for the topic on document loaders in langchain used for accessing pdf content\n",
      "search_term = \"document loaders\"\n",
      "results = soup.find_all(\"a\", text=lambda text: search_term.lower() in text.lower())\n",
      "\n",
      "# Step 3: Gather the results (no more than 5)\n",
      "max_results = 5\n",
      "result_count = min(max_results, len(results))\n",
      "print(f\"Found {result_count} results:\")\n",
      "\n",
      "# Step 4: Print the results on the screen\n",
      "for i, result in enumerate(results[:max_results]):\n",
      "    print(f\"{i+1}. {result.text.strip()}: {result['href']}\")\n",
      "```\n",
      "\n",
      "You can execute this script to get the desired output. It scrapes the langchain documents page for Python, searches for the specified topic (\"document loaders\"), gathers the results (up to 5) and prints them on the screen.\n",
      "\n",
      "Let me know if you need any further assistance!\n",
      "\n",
      "--------------------------------------------------------------------------------\n",
      "\u001b[31m\n",
      ">>>>>>>> EXECUTING CODE BLOCK 0 (inferred language is python)...\u001b[0m\n"
     ]
    },
    {
     "name": "stderr",
     "output_type": "stream",
     "text": [
      "execute_code was called with use_docker evaluating to True, but the python docker package is not available. Falling back to native code execution. Note: this fallback behavior is subject to change\n",
      "SIGALRM is not supported on Windows. No timeout will be enforced.\n"
     ]
    },
    {
     "name": "stdout",
     "output_type": "stream",
     "text": [
      "\u001b[33muser_proxy\u001b[0m (to assistant):\n",
      "\n",
      "exitcode: 0 (execution succeeded)\n",
      "Code output: \n",
      "Found 0 results:\n",
      "\n",
      "\n",
      "--------------------------------------------------------------------------------\n",
      "\u001b[33massistant\u001b[0m (to user_proxy):\n",
      "\n",
      "I apologize for the inconvenience. It seems that there are no results found for the specified topic on the langchain documents page for Python. Let's try a different approach using a search engine to gather the results. \n",
      "\n",
      "Please provide the search engine you would like to use (e.g., Google, Bing, DuckDuckGo).\n",
      "\n",
      "--------------------------------------------------------------------------------\n",
      "\u001b[33muser_proxy\u001b[0m (to assistant):\n",
      "\n",
      "\n",
      "\n",
      "--------------------------------------------------------------------------------\n",
      "\u001b[33massistant\u001b[0m (to user_proxy):\n",
      "\n",
      "I apologize for the confusion. I will use Google as the default search engine to gather the results. Here is the updated Python script that uses Google search to find the topic and gather the results:\n",
      "\n",
      "```python\n",
      "# filename: document_loader_search.py\n",
      "import requests\n",
      "from bs4 import BeautifulSoup\n",
      "\n",
      "# Step 1: Perform a search using Google\n",
      "search_term = \"document loaders in langchain used for accessing pdf content\"\n",
      "url = f\"https://www.google.com/search?q={search_term}\"\n",
      "headers = {\"User-Agent\": \"Mozilla/5.0 (Windows NT 10.0; Win64; x64) AppleWebKit/537.36 (KHTML, like Gecko) Chrome/58.0.3029.110 Safari/537.3\"}\n",
      "response = requests.get(url, headers=headers)\n",
      "soup = BeautifulSoup(response.text, \"html.parser\")\n",
      "\n",
      "# Step 2: Extract the search results\n",
      "results = soup.select(\".kCrYT a\")\n",
      "\n",
      "# Step 3: Gather the results (no more than 5)\n",
      "max_results = 5\n",
      "result_count = min(max_results, len(results))\n",
      "print(f\"Found {result_count} results:\")\n",
      "\n",
      "# Step 4: Print the results on the screen\n",
      "for i, result in enumerate(results[:max_results]):\n",
      "    print(f\"{i+1}. {result.text}: {result['href']}\")\n",
      "```\n",
      "\n",
      "Please execute this script and let me know if it retrieves the desired results.\n",
      "\n",
      "--------------------------------------------------------------------------------\n",
      "\u001b[31m\n",
      ">>>>>>>> EXECUTING CODE BLOCK 0 (inferred language is python)...\u001b[0m\n"
     ]
    },
    {
     "name": "stderr",
     "output_type": "stream",
     "text": [
      "execute_code was called with use_docker evaluating to True, but the python docker package is not available. Falling back to native code execution. Note: this fallback behavior is subject to change\n",
      "SIGALRM is not supported on Windows. No timeout will be enforced.\n"
     ]
    },
    {
     "name": "stdout",
     "output_type": "stream",
     "text": [
      "\u001b[33muser_proxy\u001b[0m (to assistant):\n",
      "\n",
      "exitcode: 1 (execution failed)\n",
      "Code output: \n",
      "Traceback (most recent call last):\n",
      "  File \"document_loader_search.py\", line 22, in <module>\n",
      "    print(f\"{i+1}. {result.text}: {result['href']}\")\n",
      "  File \"C:\\Users\\lovelyn\\AppData\\Local\\Programs\\Python\\Python311\\Lib\\encodings\\cp1252.py\", line 19, in encode\n",
      "    return codecs.charmap_encode(input,self.errors,encoding_table)[0]\n",
      "           ^^^^^^^^^^^^^^^^^^^^^^^^^^^^^^^^^^^^^^^^^^^^^^^^^^^^^^^\n",
      "UnicodeEncodeError: 'charmap' codec can't encode character '\\ufe0f' in position 9: character maps to <undefined>\n",
      "\n",
      "\n",
      "--------------------------------------------------------------------------------\n",
      "\u001b[33massistant\u001b[0m (to user_proxy):\n",
      "\n",
      "I apologize for the error. It seems that there is an issue with encoding certain characters in the search results. To resolve this, we can modify the code to handle the encoding error. Here's an updated version of the code that handles the encoding issue:\n",
      "\n",
      "```python\n",
      "# filename: document_loader_search.py\n",
      "import requests\n",
      "import sys\n",
      "from bs4 import BeautifulSoup\n",
      "\n",
      "# Step 1: Perform a search using Google\n",
      "search_term = \"document loaders in langchain used for accessing pdf content\"\n",
      "url = f\"https://www.google.com/search?q={search_term}\"\n",
      "headers = {\n",
      "    \"User-Agent\": \"Mozilla/5.0 (Windows NT 10.0; Win64; x64) AppleWebKit/537.36 (KHTML, like Gecko) Chrome/58.0.3029.110 Safari/537.3\"\n",
      "}\n",
      "response = requests.get(url, headers=headers)\n",
      "soup = BeautifulSoup(response.text, \"html.parser\")\n",
      "\n",
      "# Step 2: Extract the search results\n",
      "results = soup.select(\".kCrYT a\")\n",
      "\n",
      "# Step 3: Gather the results (no more than 5)\n",
      "max_results = 5\n",
      "result_count = min(max_results, len(results))\n",
      "print(f\"Found {result_count} results:\")\n",
      "\n",
      "# Step 4: Print the results on the screen\n",
      "for i, result in enumerate(results[:max_results]):\n",
      "    try:\n",
      "        result_text = result.text.encode(sys.stdout.encoding, errors=\"replace\").decode(sys.stdout.encoding)\n",
      "        result_url = result[\"href\"].encode(sys.stdout.encoding, errors=\"replace\").decode(sys.stdout.encoding)\n",
      "        print(f\"{i+1}. {result_text}: {result_url}\")\n",
      "    except:\n",
      "        print(f\"{i+1}. Unable to decode the result URL.\")\n",
      "```\n",
      "\n",
      "Please try executing this updated code again. It addresses the encoding error by replacing any problematic characters with placeholders. Let me know if you encounter any further issues.\n",
      "\n",
      "--------------------------------------------------------------------------------\n",
      "\u001b[31m\n",
      ">>>>>>>> EXECUTING CODE BLOCK 0 (inferred language is python)...\u001b[0m\n"
     ]
    },
    {
     "name": "stderr",
     "output_type": "stream",
     "text": [
      "execute_code was called with use_docker evaluating to True, but the python docker package is not available. Falling back to native code execution. Note: this fallback behavior is subject to change\n",
      "SIGALRM is not supported on Windows. No timeout will be enforced.\n"
     ]
    },
    {
     "name": "stdout",
     "output_type": "stream",
     "text": [
      "\u001b[33muser_proxy\u001b[0m (to assistant):\n",
      "\n",
      "exitcode: 0 (execution succeeded)\n",
      "Code output: \n",
      "Found 5 results:\n",
      "1. PDF - ?   Langchainpython.langchain.com › Modules › Retrieval › Document loaders: /url?esrc=s&q=&rct=j&sa=U&url=https://python.langchain.com/docs/modules/data_connection/document_loaders/pdf&ved=2ahUKEwj3yo-I_pWCAxWifWwGHT5zAKsQFnoECAsQAg&usg=AOvVaw2qV3SQ9VVprTXcFQeCYROa\n",
      "2. Document loaders - ?   Langchainpython.langchain.com › Modules › Retrieval: /url?esrc=s&q=&rct=j&sa=U&url=https://python.langchain.com/docs/modules/data_connection/document_loaders/&ved=2ahUKEwj3yo-I_pWCAxWifWwGHT5zAKsQFnoECAQQAg&usg=AOvVaw2Knc2g7mZqstG_DX0y6uLE\n",
      "3. How to Use PDF Loaders in LangChain? - Linux Hintlinuxhint.com › use-pdf-loader-langchain: /url?esrc=s&q=&rct=j&sa=U&url=https://linuxhint.com/use-pdf-loader-langchain/&ved=2ahUKEwj3yo-I_pWCAxWifWwGHT5zAKsQFnoECAkQAg&usg=AOvVaw3SFGKXned17VilMXfLzAVu\n",
      "4. Building a Multi-Document Reader and Chatbot With LangChain ...betterprogramming.pub › building-a-multi-document-reader-and-chatbot-...: /url?esrc=s&q=&rct=j&sa=U&url=https://betterprogramming.pub/building-a-multi-document-reader-and-chatbot-with-langchain-and-chatgpt-d1864d47e339&ved=2ahUKEwj3yo-I_pWCAxWifWwGHT5zAKsQFnoECAYQAg&usg=AOvVaw17xzt5N2wkp7cuj_IN9iEt\n",
      "5. Automating PDF Interaction with LangChain and ChatGPT - Mediummedium.com › geekculture › automating-pdf-interaction-with-langchain-a...: /url?esrc=s&q=&rct=j&sa=U&url=https://medium.com/geekculture/automating-pdf-interaction-with-langchain-and-chatgpt-e723337f26a6&ved=2ahUKEwj3yo-I_pWCAxWifWwGHT5zAKsQFnoECAMQAg&usg=AOvVaw2K1SpSch6NF1QpWIsgo7cQ\n",
      "\n",
      "\n",
      "--------------------------------------------------------------------------------\n",
      "\u001b[33massistant\u001b[0m (to user_proxy):\n",
      "\n",
      "Great! The updated code successfully retrieved 5 search results related to document loaders in langchain used for accessing PDF content. Here are the results:\n",
      "\n",
      "1. PDF - ? Langchainpython.langchain.com › Modules › Retrieval › Document loaders: [link to the document loader]\n",
      "2. Document loaders - ? Langchainpython.langchain.com › Modules › Retrieval: [link to the document loader]\n",
      "3. How to Use PDF Loaders in LangChain? - Linux Hintlinuxhint.com › use-pdf-loader-langchain: [link to the article]\n",
      "4. Building a Multi-Document Reader and Chatbot With LangChain ...betterprogramming.pub › building-a-multi-document-reader-and-chatbot-...: [link to the article]\n",
      "5. Automating PDF Interaction with LangChain and ChatGPT - Mediummedium.com › geekculture › automating-pdf-interaction-with-langchain-a...: [link to the article]\n",
      "\n",
      "You can click on the provided links to access the relevant resources. Let me know if there's anything else I can help you with!\n",
      "\n",
      "--------------------------------------------------------------------------------\n",
      "\u001b[33muser_proxy\u001b[0m (to assistant):\n",
      "\n",
      "\n",
      "\n",
      "--------------------------------------------------------------------------------\n",
      "\u001b[33massistant\u001b[0m (to user_proxy):\n",
      "\n",
      "TERMINATE\n",
      "\n",
      "--------------------------------------------------------------------------------\n"
     ]
    }
   ],
   "source": [
    "user_proxy.initiate_chat(assistant, \n",
    "                         message=\"\"\"I need you to write a Python Script to do the following:\n",
    "                                 1. Go to langchain documents page for python\n",
    "                                 2. Search for the topic on document loaders in langchain used for accessing pdf content\n",
    "                                 3. Gather the results. No more than 5\n",
    "                                 4. Print the result on the screen\"\"\"\n",
    "                        )"
   ]
  },
  {
   "cell_type": "code",
   "execution_count": null,
   "id": "26d434b8-73f0-4c50-9652-ab5357b6fed7",
   "metadata": {},
   "outputs": [],
   "source": []
  }
 ],
 "metadata": {
  "kernelspec": {
   "display_name": "Python 3 (ipykernel)",
   "language": "python",
   "name": "python3"
  },
  "language_info": {
   "codemirror_mode": {
    "name": "ipython",
    "version": 3
   },
   "file_extension": ".py",
   "mimetype": "text/x-python",
   "name": "python",
   "nbconvert_exporter": "python",
   "pygments_lexer": "ipython3",
   "version": "3.11.1"
  }
 },
 "nbformat": 4,
 "nbformat_minor": 5
}
