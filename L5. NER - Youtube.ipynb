{
 "cells": [
  {
   "cell_type": "markdown",
   "id": "cae52c09",
   "metadata": {},
   "source": [
    "## Named Entity Recognition"
   ]
  },
  {
   "cell_type": "code",
   "execution_count": 47,
   "id": "46e718d0",
   "metadata": {},
   "outputs": [],
   "source": [
    "import os\n",
    "import openai\n",
    "\n",
    "openai.api_key = os.getenv(\"OPENAI_API_KEY\")"
   ]
  },
  {
   "cell_type": "code",
   "execution_count": 2,
   "id": "76cba7fb",
   "metadata": {},
   "outputs": [],
   "source": [
    "response = openai.Completion.create(\n",
    "    model= \"text-davinci-003\",\n",
    "    prompt= \"what is python\",\n",
    "    max_tokens = 7    \n",
    ")"
   ]
  },
  {
   "cell_type": "code",
   "execution_count": 6,
   "id": "62054ffb",
   "metadata": {},
   "outputs": [
    {
     "name": "stdout",
     "output_type": "stream",
     "text": [
      "Defaulting to user installation because normal site-packages is not writeable\n",
      "Requirement already satisfied: tiktoken in c:\\users\\lovelyn\\appdata\\roaming\\python\\python38\\site-packages (0.4.0)\n",
      "Requirement already satisfied: requests>=2.26.0 in c:\\users\\lovelyn\\appdata\\roaming\\python\\python38\\site-packages (from tiktoken) (2.26.0)\n",
      "Requirement already satisfied: regex>=2022.1.18 in c:\\users\\lovelyn\\appdata\\roaming\\python\\python38\\site-packages (from tiktoken) (2023.5.5)\n",
      "Requirement already satisfied: charset-normalizer~=2.0.0 in c:\\users\\lovelyn\\appdata\\roaming\\python\\python38\\site-packages (from requests>=2.26.0->tiktoken) (2.0.7)\n",
      "Requirement already satisfied: urllib3<1.27,>=1.21.1 in c:\\users\\lovelyn\\appdata\\roaming\\python\\python38\\site-packages (from requests>=2.26.0->tiktoken) (1.26.7)\n",
      "Requirement already satisfied: certifi>=2017.4.17 in c:\\users\\lovelyn\\appdata\\roaming\\python\\python38\\site-packages (from requests>=2.26.0->tiktoken) (2021.10.8)\n",
      "Requirement already satisfied: idna<4,>=2.5 in c:\\users\\lovelyn\\appdata\\roaming\\python\\python38\\site-packages (from requests>=2.26.0->tiktoken) (3.3)\n"
     ]
    },
    {
     "name": "stderr",
     "output_type": "stream",
     "text": [
      "WARNING: pip is being invoked by an old script wrapper. This will fail in a future version of pip.\n",
      "Please see https://github.com/pypa/pip/issues/5599 for advice on fixing the underlying issue.\n",
      "To avoid this problem you can invoke Python with '-m pip' instead of running pip directly.\n",
      "WARNING: Ignoring invalid distribution -ordcloud (c:\\users\\lovelyn\\appdata\\roaming\\python\\python38\\site-packages)\n",
      "WARNING: Ignoring invalid distribution -illow (c:\\users\\lovelyn\\appdata\\roaming\\python\\python38\\site-packages)\n",
      "WARNING: Ignoring invalid distribution -ordcloud (c:\\users\\lovelyn\\appdata\\roaming\\python\\python38\\site-packages)\n",
      "WARNING: Ignoring invalid distribution -illow (c:\\users\\lovelyn\\appdata\\roaming\\python\\python38\\site-packages)\n",
      "WARNING: Ignoring invalid distribution -ordcloud (c:\\users\\lovelyn\\appdata\\roaming\\python\\python38\\site-packages)\n",
      "WARNING: Ignoring invalid distribution -illow (c:\\users\\lovelyn\\appdata\\roaming\\python\\python38\\site-packages)\n",
      "WARNING: Ignoring invalid distribution -ordcloud (c:\\users\\lovelyn\\appdata\\roaming\\python\\python38\\site-packages)\n",
      "WARNING: Ignoring invalid distribution -illow (c:\\users\\lovelyn\\appdata\\roaming\\python\\python38\\site-packages)\n",
      "WARNING: Ignoring invalid distribution -ordcloud (c:\\users\\lovelyn\\appdata\\roaming\\python\\python38\\site-packages)\n",
      "WARNING: Ignoring invalid distribution -illow (c:\\users\\lovelyn\\appdata\\roaming\\python\\python38\\site-packages)\n",
      "WARNING: Ignoring invalid distribution -ordcloud (c:\\users\\lovelyn\\appdata\\roaming\\python\\python38\\site-packages)\n",
      "WARNING: Ignoring invalid distribution -illow (c:\\users\\lovelyn\\appdata\\roaming\\python\\python38\\site-packages)\n",
      "\n",
      "[notice] A new release of pip available: 22.3.1 -> 23.1.2\n",
      "[notice] To update, run: python.exe -m pip install --upgrade pip\n"
     ]
    }
   ],
   "source": [
    "!pip install --upgrade tiktoken"
   ]
  },
  {
   "cell_type": "code",
   "execution_count": 52,
   "id": "4f330d26",
   "metadata": {},
   "outputs": [],
   "source": [
    "response = openai.Completion.create(\n",
    "    model= \"text-davinci-003\",\n",
    "    prompt= \"Perform NER. Alex lives in India. Output as table \\\"entity\\\", \\\"type\\\" \",\n",
    "    max_tokens = 30,\n",
    "    temperature = 0.2\n",
    ")"
   ]
  },
  {
   "cell_type": "code",
   "execution_count": 53,
   "id": "d2a2ea25",
   "metadata": {},
   "outputs": [
    {
     "name": "stdout",
     "output_type": "stream",
     "text": [
      "{\n",
      "  \"choices\": [\n",
      "    {\n",
      "      \"finish_reason\": \"stop\",\n",
      "      \"index\": 0,\n",
      "      \"logprobs\": null,\n",
      "      \"text\": \"\\n\\n| Entity | Type |\\n|-------|------|\\n| Alex  | Person |\\n| India | Location |\"\n",
      "    }\n",
      "  ],\n",
      "  \"created\": 1685982335,\n",
      "  \"id\": \"cmpl-7O7JPpRnOu7jE1OQtl8ECX9Xh49uK\",\n",
      "  \"model\": \"text-davinci-003\",\n",
      "  \"object\": \"text_completion\",\n",
      "  \"usage\": {\n",
      "    \"completion_tokens\": 26,\n",
      "    \"prompt_tokens\": 20,\n",
      "    \"total_tokens\": 46\n",
      "  }\n",
      "}\n"
     ]
    }
   ],
   "source": [
    "print(response)"
   ]
  },
  {
   "cell_type": "code",
   "execution_count": 54,
   "id": "2474bc91",
   "metadata": {},
   "outputs": [
    {
     "name": "stdout",
     "output_type": "stream",
     "text": [
      "76\n"
     ]
    }
   ],
   "source": [
    "print(len(response.choices[0].text))"
   ]
  },
  {
   "cell_type": "code",
   "execution_count": 55,
   "id": "e7cd6f8a",
   "metadata": {},
   "outputs": [
    {
     "name": "stdout",
     "output_type": "stream",
     "text": [
      "\n",
      "\n",
      "| Entity | Type |\n",
      "|-------|------|\n",
      "| Alex  | Person |\n",
      "| India | Location |\n"
     ]
    }
   ],
   "source": [
    "print(response.choices[0].text)"
   ]
  },
  {
   "cell_type": "code",
   "execution_count": 8,
   "id": "306a6678",
   "metadata": {},
   "outputs": [
    {
     "name": "stdout",
     "output_type": "stream",
     "text": [
      "<Encoding 'p50k_base'>\n"
     ]
    }
   ],
   "source": [
    "import tiktoken\n",
    "\n",
    "encoding = tiktoken.encoding_for_model('text-davinci-003')\n",
    "print(encoding)"
   ]
  },
  {
   "cell_type": "code",
   "execution_count": 58,
   "id": "f13d5a69",
   "metadata": {},
   "outputs": [],
   "source": [
    "token_id = encoding.encode(\"Perform NER. Alex lives in India. Output as table \\\"entity\\\", \\\"type\\\" \")"
   ]
  },
  {
   "cell_type": "code",
   "execution_count": 68,
   "id": "63e1d1d4",
   "metadata": {},
   "outputs": [
    {
     "name": "stdout",
     "output_type": "stream",
     "text": [
      "[5990, 687, 399, 1137, 13, 4422, 3160, 287, 3794, 13, 25235, 355, 3084, 366, 26858, 1600, 366, 4906, 1, 220]\n"
     ]
    }
   ],
   "source": [
    "print(token_id)"
   ]
  },
  {
   "cell_type": "code",
   "execution_count": 60,
   "id": "26d0700b",
   "metadata": {},
   "outputs": [
    {
     "name": "stdout",
     "output_type": "stream",
     "text": [
      "Number of tokens is 20\n"
     ]
    }
   ],
   "source": [
    "print(f\"Number of tokens is {len(token_id)}\")"
   ]
  },
  {
   "cell_type": "code",
   "execution_count": 61,
   "id": "db9ce680",
   "metadata": {},
   "outputs": [
    {
     "data": {
      "text/plain": [
       "[b'Per',\n",
       " b'form',\n",
       " b' N',\n",
       " b'ER',\n",
       " b'.',\n",
       " b' Alex',\n",
       " b' lives',\n",
       " b' in',\n",
       " b' India',\n",
       " b'.',\n",
       " b' Output',\n",
       " b' as',\n",
       " b' table',\n",
       " b' \"',\n",
       " b'entity',\n",
       " b'\",',\n",
       " b' \"',\n",
       " b'type',\n",
       " b'\"',\n",
       " b' ']"
      ]
     },
     "execution_count": 61,
     "metadata": {},
     "output_type": "execute_result"
    }
   ],
   "source": [
    "[encoding.decode_single_token_bytes(token) for token in token_id]"
   ]
  },
  {
   "cell_type": "markdown",
   "id": "0defa880",
   "metadata": {},
   "source": [
    "## Encoding for gpt-3.5-turbo"
   ]
  },
  {
   "cell_type": "code",
   "execution_count": 64,
   "id": "31d83267",
   "metadata": {},
   "outputs": [
    {
     "name": "stdout",
     "output_type": "stream",
     "text": [
      "<Encoding 'cl100k_base'>\n"
     ]
    }
   ],
   "source": [
    "import tiktoken\n",
    "\n",
    "encoding_gpt = tiktoken.encoding_for_model('gpt-3.5-turbo')\n",
    "print(encoding_gpt)"
   ]
  },
  {
   "cell_type": "code",
   "execution_count": 67,
   "id": "8a2d7e88",
   "metadata": {},
   "outputs": [
    {
     "name": "stdout",
     "output_type": "stream",
     "text": [
      "Number of tokens is 19\n"
     ]
    },
    {
     "data": {
      "text/plain": [
       "[b'Perform',\n",
       " b' N',\n",
       " b'ER',\n",
       " b'.',\n",
       " b' Alex',\n",
       " b' lives',\n",
       " b' in',\n",
       " b' India',\n",
       " b'.',\n",
       " b' Output',\n",
       " b' as',\n",
       " b' table',\n",
       " b' \"',\n",
       " b'entity',\n",
       " b'\",',\n",
       " b' \"',\n",
       " b'type',\n",
       " b'\"',\n",
       " b' ']"
      ]
     },
     "execution_count": 67,
     "metadata": {},
     "output_type": "execute_result"
    }
   ],
   "source": [
    "token_id_gpt = encoding_gpt.encode(\"Perform NER. Alex lives in India. Output as table \\\"entity\\\", \\\"type\\\" \")\n",
    "print(f\"Number of tokens is {len(token_id_gpt)}\")\n",
    "[encoding_gpt.decode_single_token_bytes(token) for token in token_id_gpt]"
   ]
  }
 ],
 "metadata": {
  "kernelspec": {
   "display_name": "Python 3 (ipykernel)",
   "language": "python",
   "name": "python3"
  },
  "language_info": {
   "codemirror_mode": {
    "name": "ipython",
    "version": 3
   },
   "file_extension": ".py",
   "mimetype": "text/x-python",
   "name": "python",
   "nbconvert_exporter": "python",
   "pygments_lexer": "ipython3",
   "version": "3.8.2"
  }
 },
 "nbformat": 4,
 "nbformat_minor": 5
}
