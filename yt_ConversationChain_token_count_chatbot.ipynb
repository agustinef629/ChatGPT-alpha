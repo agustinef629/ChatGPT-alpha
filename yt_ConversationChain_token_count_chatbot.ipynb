{
  "nbformat": 4,
  "nbformat_minor": 0,
  "metadata": {
    "colab": {
      "provenance": []
    },
    "kernelspec": {
      "name": "python3",
      "display_name": "Python 3"
    },
    "language_info": {
      "name": "python"
    }
  },
  "cells": [
    {
      "cell_type": "code",
      "execution_count": null,
      "metadata": {
        "colab": {
          "base_uri": "https://localhost:8080/"
        },
        "id": "QYJ1T_mnzn3_",
        "outputId": "b78c43d9-3e01-4250-b15e-286104f02f74"
      },
      "outputs": [
        {
          "output_type": "stream",
          "name": "stdout",
          "text": [
            "Collecting openai\n",
            "  Downloading openai-0.27.8-py3-none-any.whl (73 kB)\n",
            "\u001b[2K     \u001b[90m━━━━━━━━━━━━━━━━━━━━━━━━━━━━━━━━━━━━━━━━\u001b[0m \u001b[32m73.6/73.6 kB\u001b[0m \u001b[31m2.0 MB/s\u001b[0m eta \u001b[36m0:00:00\u001b[0m\n",
            "\u001b[?25hCollecting langchain\n",
            "  Downloading langchain-0.0.249-py3-none-any.whl (1.4 MB)\n",
            "\u001b[2K     \u001b[90m━━━━━━━━━━━━━━━━━━━━━━━━━━━━━━━━━━━━━━━━\u001b[0m \u001b[32m1.4/1.4 MB\u001b[0m \u001b[31m10.5 MB/s\u001b[0m eta \u001b[36m0:00:00\u001b[0m\n",
            "\u001b[?25hRequirement already satisfied: requests>=2.20 in /usr/local/lib/python3.10/dist-packages (from openai) (2.27.1)\n",
            "Requirement already satisfied: tqdm in /usr/local/lib/python3.10/dist-packages (from openai) (4.65.0)\n",
            "Requirement already satisfied: aiohttp in /usr/local/lib/python3.10/dist-packages (from openai) (3.8.5)\n",
            "Requirement already satisfied: PyYAML>=5.4.1 in /usr/local/lib/python3.10/dist-packages (from langchain) (6.0.1)\n",
            "Requirement already satisfied: SQLAlchemy<3,>=1.4 in /usr/local/lib/python3.10/dist-packages (from langchain) (2.0.19)\n",
            "Requirement already satisfied: async-timeout<5.0.0,>=4.0.0 in /usr/local/lib/python3.10/dist-packages (from langchain) (4.0.2)\n",
            "Collecting dataclasses-json<0.6.0,>=0.5.7 (from langchain)\n",
            "  Downloading dataclasses_json-0.5.14-py3-none-any.whl (26 kB)\n",
            "Collecting langsmith<0.1.0,>=0.0.11 (from langchain)\n",
            "  Downloading langsmith-0.0.16-py3-none-any.whl (29 kB)\n",
            "Requirement already satisfied: numexpr<3.0.0,>=2.8.4 in /usr/local/lib/python3.10/dist-packages (from langchain) (2.8.4)\n",
            "Requirement already satisfied: numpy<2,>=1 in /usr/local/lib/python3.10/dist-packages (from langchain) (1.22.4)\n",
            "Collecting openapi-schema-pydantic<2.0,>=1.2 (from langchain)\n",
            "  Downloading openapi_schema_pydantic-1.2.4-py3-none-any.whl (90 kB)\n",
            "\u001b[2K     \u001b[90m━━━━━━━━━━━━━━━━━━━━━━━━━━━━━━━━━━━━━━━━\u001b[0m \u001b[32m90.0/90.0 kB\u001b[0m \u001b[31m12.5 MB/s\u001b[0m eta \u001b[36m0:00:00\u001b[0m\n",
            "\u001b[?25hRequirement already satisfied: pydantic<2,>=1 in /usr/local/lib/python3.10/dist-packages (from langchain) (1.10.12)\n",
            "Requirement already satisfied: tenacity<9.0.0,>=8.1.0 in /usr/local/lib/python3.10/dist-packages (from langchain) (8.2.2)\n",
            "Requirement already satisfied: attrs>=17.3.0 in /usr/local/lib/python3.10/dist-packages (from aiohttp->openai) (23.1.0)\n",
            "Requirement already satisfied: charset-normalizer<4.0,>=2.0 in /usr/local/lib/python3.10/dist-packages (from aiohttp->openai) (2.0.12)\n",
            "Requirement already satisfied: multidict<7.0,>=4.5 in /usr/local/lib/python3.10/dist-packages (from aiohttp->openai) (6.0.4)\n",
            "Requirement already satisfied: yarl<2.0,>=1.0 in /usr/local/lib/python3.10/dist-packages (from aiohttp->openai) (1.9.2)\n",
            "Requirement already satisfied: frozenlist>=1.1.1 in /usr/local/lib/python3.10/dist-packages (from aiohttp->openai) (1.4.0)\n",
            "Requirement already satisfied: aiosignal>=1.1.2 in /usr/local/lib/python3.10/dist-packages (from aiohttp->openai) (1.3.1)\n",
            "Collecting marshmallow<4.0.0,>=3.18.0 (from dataclasses-json<0.6.0,>=0.5.7->langchain)\n",
            "  Downloading marshmallow-3.20.1-py3-none-any.whl (49 kB)\n",
            "\u001b[2K     \u001b[90m━━━━━━━━━━━━━━━━━━━━━━━━━━━━━━━━━━━━━━━━\u001b[0m \u001b[32m49.4/49.4 kB\u001b[0m \u001b[31m2.6 MB/s\u001b[0m eta \u001b[36m0:00:00\u001b[0m\n",
            "\u001b[?25hCollecting typing-inspect<1,>=0.4.0 (from dataclasses-json<0.6.0,>=0.5.7->langchain)\n",
            "  Downloading typing_inspect-0.9.0-py3-none-any.whl (8.8 kB)\n",
            "Requirement already satisfied: typing-extensions>=4.2.0 in /usr/local/lib/python3.10/dist-packages (from pydantic<2,>=1->langchain) (4.7.1)\n",
            "Requirement already satisfied: urllib3<1.27,>=1.21.1 in /usr/local/lib/python3.10/dist-packages (from requests>=2.20->openai) (1.26.16)\n",
            "Requirement already satisfied: certifi>=2017.4.17 in /usr/local/lib/python3.10/dist-packages (from requests>=2.20->openai) (2023.7.22)\n",
            "Requirement already satisfied: idna<4,>=2.5 in /usr/local/lib/python3.10/dist-packages (from requests>=2.20->openai) (3.4)\n",
            "Requirement already satisfied: greenlet!=0.4.17 in /usr/local/lib/python3.10/dist-packages (from SQLAlchemy<3,>=1.4->langchain) (2.0.2)\n",
            "Requirement already satisfied: packaging>=17.0 in /usr/local/lib/python3.10/dist-packages (from marshmallow<4.0.0,>=3.18.0->dataclasses-json<0.6.0,>=0.5.7->langchain) (23.1)\n",
            "Collecting mypy-extensions>=0.3.0 (from typing-inspect<1,>=0.4.0->dataclasses-json<0.6.0,>=0.5.7->langchain)\n",
            "  Downloading mypy_extensions-1.0.0-py3-none-any.whl (4.7 kB)\n",
            "Installing collected packages: mypy-extensions, marshmallow, typing-inspect, openapi-schema-pydantic, langsmith, openai, dataclasses-json, langchain\n",
            "Successfully installed dataclasses-json-0.5.14 langchain-0.0.249 langsmith-0.0.16 marshmallow-3.20.1 mypy-extensions-1.0.0 openai-0.27.8 openapi-schema-pydantic-1.2.4 typing-inspect-0.9.0\n"
          ]
        }
      ],
      "source": [
        "!pip install openai langchain"
      ]
    },
    {
      "cell_type": "code",
      "source": [
        "import openai\n",
        "\n",
        "openai.api_key = your_key"
      ],
      "metadata": {
        "id": "2QxmBQ_O4ik4"
      },
      "execution_count": null,
      "outputs": []
    },
    {
      "cell_type": "code",
      "source": [
        "from langchain.chat_models import ChatOpenAI\n",
        "from langchain import ConversationChain,PromptTemplate\n",
        "from langchain.chains.conversation.memory import ConversationBufferMemory"
      ],
      "metadata": {
        "id": "F5y8bjaqoPE5"
      },
      "execution_count": 41,
      "outputs": []
    },
    {
      "cell_type": "code",
      "source": [
        "template = \"\"\"\n",
        "{history}\n",
        "Human: {human_input}\n",
        "Assistant:\"\"\"\n",
        "\n",
        "prompt = PromptTemplate(input_variables=[\"history\", \"human_input\"], template=template)"
      ],
      "metadata": {
        "id": "Uxxm1yN2kqrG"
      },
      "execution_count": 42,
      "outputs": []
    },
    {
      "cell_type": "code",
      "source": [
        "llm=ChatOpenAI(temperature=0.7,openai_api_key=openai.api_key) # To work with gpt-3.5-turbo"
      ],
      "metadata": {
        "id": "cAzeKVjUn_k2"
      },
      "execution_count": 43,
      "outputs": []
    },
    {
      "cell_type": "code",
      "source": [
        "# now initialize the conversation chain\n",
        "conversation = ConversationChain(\n",
        "    llm=llm,\n",
        "    memory=ConversationBufferMemory(human_prefix=\"Customer\",ai_prefix=\"Sales Person\")\n",
        "    )"
      ],
      "metadata": {
        "id": "olHoGIkTwvJY"
      },
      "execution_count": 44,
      "outputs": []
    },
    {
      "cell_type": "code",
      "source": [
        "print(conversation.prompt.template)"
      ],
      "metadata": {
        "colab": {
          "base_uri": "https://localhost:8080/"
        },
        "id": "moTe2wlYlBMH",
        "outputId": "0bf16188-a1eb-4dda-f6e1-782902325103"
      },
      "execution_count": 54,
      "outputs": [
        {
          "output_type": "stream",
          "name": "stdout",
          "text": [
            "The following is a friendly conversation between a human and an AI. The AI is talkative and provides lots of specific details from its context. If the AI does not know the answer to a question, it truthfully says it does not know.\n",
            "\n",
            "Current conversation:\n",
            "{history}\n",
            "Human: {input}\n",
            "AI:\n"
          ]
        }
      ]
    },
    {
      "cell_type": "code",
      "source": [
        "conversation(\"I want to buy TV\")"
      ],
      "metadata": {
        "colab": {
          "base_uri": "https://localhost:8080/"
        },
        "id": "SR4ffxF8y2bZ",
        "outputId": "1ab831a4-b3fe-4352-fb03-bb2df1faf284"
      },
      "execution_count": 46,
      "outputs": [
        {
          "output_type": "execute_result",
          "data": {
            "text/plain": [
              "{'input': 'I want to buy TV',\n",
              " 'history': '',\n",
              " 'response': \"That's great! Buying a TV can be an exciting experience. There are a lot of options available in the market these days. Can you please provide me with some specific details about the TV you are looking for?\"}"
            ]
          },
          "metadata": {},
          "execution_count": 46
        }
      ]
    },
    {
      "cell_type": "code",
      "source": [
        "print(conversation.memory.buffer)"
      ],
      "metadata": {
        "colab": {
          "base_uri": "https://localhost:8080/"
        },
        "id": "6fQ4H4N0oaNd",
        "outputId": "f1d4122a-0310-4be1-c08f-4142c7a4dd0a"
      },
      "execution_count": 47,
      "outputs": [
        {
          "output_type": "stream",
          "name": "stdout",
          "text": [
            "Customer: I want to buy TV\n",
            "Sales Person: That's great! Buying a TV can be an exciting experience. There are a lot of options available in the market these days. Can you please provide me with some specific details about the TV you are looking for?\n"
          ]
        }
      ]
    },
    {
      "cell_type": "code",
      "source": [
        "conversation(\"55 inches\")"
      ],
      "metadata": {
        "colab": {
          "base_uri": "https://localhost:8080/"
        },
        "id": "hMK9lEnTCeHq",
        "outputId": "f817d332-3e4d-46d6-8341-9410872d27b5"
      },
      "execution_count": 48,
      "outputs": [
        {
          "output_type": "execute_result",
          "data": {
            "text/plain": [
              "{'input': '55 inches',\n",
              " 'history': \"Customer: I want to buy TV\\nSales Person: That's great! Buying a TV can be an exciting experience. There are a lot of options available in the market these days. Can you please provide me with some specific details about the TV you are looking for?\",\n",
              " 'response': \"That's a popular size for TVs. The 55-inch screen size provides a great balance between size and viewing experience. There are several brands that offer 55-inch TVs with different features and technologies. Some popular options include Samsung, LG, Sony, and TCL. Do you have a preferred brand or any other specific requirements for the TV?\"}"
            ]
          },
          "metadata": {},
          "execution_count": 48
        }
      ]
    },
    {
      "cell_type": "code",
      "source": [
        "while True:\n",
        "    # Get user's input\n",
        "    user_input = input(\"User: \")\n",
        "\n",
        "    if \"end\" in user_input:\n",
        "        print(\"End of conversation\")\n",
        "        break\n",
        "\n",
        "    chatbot_response = conversation(user_input)\n",
        "\n",
        "    #Print response from chatbot\n",
        "    print(\"Bot : \",chatbot_response)"
      ],
      "metadata": {
        "colab": {
          "base_uri": "https://localhost:8080/"
        },
        "id": "C0pQXoRvpJmC",
        "outputId": "c903dafb-b433-42eb-bbf1-81ec7d038646"
      },
      "execution_count": 55,
      "outputs": [
        {
          "output_type": "stream",
          "name": "stdout",
          "text": [
            "User: i want in sony\n",
            "Bot :  {'input': 'i want in sony', 'history': \"Customer: I want to buy TV\\nSales Person: That's great! Buying a TV can be an exciting experience. There are a lot of options available in the market these days. Can you please provide me with some specific details about the TV you are looking for?\\nCustomer: 55 inches\\nSales Person: That's a popular size for TVs. The 55-inch screen size provides a great balance between size and viewing experience. There are several brands that offer 55-inch TVs with different features and technologies. Some popular options include Samsung, LG, Sony, and TCL. Do you have a preferred brand or any other specific requirements for the TV?\\nCustomer: sony is it good\\nSales Person: Sony is a well-known brand in the TV industry and they have a good reputation for producing high-quality TVs. Sony TVs are known for their excellent picture quality, vibrant colors, and impressive contrast. They also offer a range of features such as smart TV capabilities, HDR support, and advanced image processing technologies. Overall, Sony is considered to be a reliable and reputable brand for TVs.\\nCustomer: how about in washing machine\\nSales Person: When it comes to washing machines, there are several brands that offer reliable and high-quality options. Some popular brands include Samsung, LG, Whirlpool, and Bosch. Each brand offers different features and technologies, so it's important to consider your specific needs and preferences. Samsung washing machines, for example, are known for their innovative features such as AddWash, which allows you to add forgotten clothes mid-cycle, and EcoBubble technology, which creates powerful yet gentle foam for effective cleaning. LG washing machines, on the other hand, are known for their advanced technologies such as TurboWash, which reduces washing time, and TrueSteam, which eliminates allergens and wrinkles. Whirlpool and Bosch also offer a range of efficient and reliable washing machines with features such as energy-saving options and advanced cleaning cycles. It's always a good idea to read reviews and compare different models to find the best washing machine that suits your needs.\\nCustomer: does sony offer\\nSales Person: Sony offers a wide range of products including TVs, cameras, audio equipment, gaming consoles, and more. In terms of washing machines, Sony does not currently manufacture or sell washing machines. Their focus is primarily on consumer electronics and entertainment products.\\nCustomer: ok tell me about bosch\\nSales Person: Bosch is a well-known brand in the home appliances industry, including washing machines. They are known for their high-quality and reliable products. Bosch washing machines are designed with advanced technologies and features to provide efficient and effective cleaning. They offer a range of models with different capacities, spin speeds, and wash programs to suit various needs. Some notable features of Bosch washing machines include EcoSilence Drive, which ensures quiet operation, VarioPerfect, which allows you to choose between time-saving or energy-saving options, and ActiveWater, which optimizes water usage for each load. Bosch washing machines are also known for their durability and energy efficiency, making them a popular choice among consumers.\\nCustomer: can i buy tv n bosch\\nSales Person: No, Bosch does not manufacture or sell TVs. Their focus is primarily on home appliances such as washing machines, dishwashers, refrigerators, and cooking appliances. If you're looking to buy a TV, I would recommend considering brands like Sony, Samsung, LG, or TCL, as they offer a wide range of options with different features and technologies.\\nCustomer: ok tell me what type of washing machine are found\\nSales Person: There are several types of washing machines available in the market. The most common types include top-loading washing machines and front-loading washing machines. Top-loading washing machines have a lid on the top and the clothes are loaded from the top. They are generally more affordable and have faster wash cycles. Front-loading washing machines, on the other hand, have a door on the front and the clothes are loaded from the front. They are known for their energy efficiency, water efficiency, and better cleaning performance. Another type of washing machine is the semi-automatic washing machine, which requires manual intervention to move clothes from the washing tub to the spinning tub. These types of washing machines are usually more affordable but require more effort to operate. Additionally, there are compact washing machines available for smaller spaces, portable washing machines that can be moved around easily, and combination washer-dryer units that can both wash and dry clothes. It's important to consider your specific needs and preferences when choosing a washing machine type.\\nCustomer: i need tv\\nSales Person: That's great! Buying a TV can be an exciting experience. There are a lot of options available in the market these days. Can you please provide me with some specific details about the TV you are looking for?\\nCustomer: good sound quality\\nSales Person: When it comes to good sound quality in TVs, there are a few brands that are known for their excellent audio performance. LG and Sony, in particular, are known for their high-quality sound systems in their TVs. LG TVs often feature Dolby Atmos technology, which provides immersive and multidimensional sound, while Sony TVs often come with their own sound technologies such as Acoustic Surface Audio or Acoustic Multi-Audio, which deliver clear and balanced sound. It's also worth considering soundbars or external speaker systems if you want to enhance the audio experience even further.\", 'response': \"If you're looking for good sound quality in a TV, Sony is a great choice. Sony TVs are known for their excellent picture quality, vibrant colors, and impressive contrast, as well as their high-quality sound systems. Sony often incorporates their own sound technologies such as Acoustic Surface Audio or Acoustic Multi-Audio, which deliver clear and balanced sound. So, if you're specifically looking for good sound quality in a TV, Sony would be a great brand to consider.\"}\n",
            "User: do we have in bosch\n",
            "Bot :  {'input': 'do we have in bosch', 'history': \"Customer: I want to buy TV\\nSales Person: That's great! Buying a TV can be an exciting experience. There are a lot of options available in the market these days. Can you please provide me with some specific details about the TV you are looking for?\\nCustomer: 55 inches\\nSales Person: That's a popular size for TVs. The 55-inch screen size provides a great balance between size and viewing experience. There are several brands that offer 55-inch TVs with different features and technologies. Some popular options include Samsung, LG, Sony, and TCL. Do you have a preferred brand or any other specific requirements for the TV?\\nCustomer: sony is it good\\nSales Person: Sony is a well-known brand in the TV industry and they have a good reputation for producing high-quality TVs. Sony TVs are known for their excellent picture quality, vibrant colors, and impressive contrast. They also offer a range of features such as smart TV capabilities, HDR support, and advanced image processing technologies. Overall, Sony is considered to be a reliable and reputable brand for TVs.\\nCustomer: how about in washing machine\\nSales Person: When it comes to washing machines, there are several brands that offer reliable and high-quality options. Some popular brands include Samsung, LG, Whirlpool, and Bosch. Each brand offers different features and technologies, so it's important to consider your specific needs and preferences. Samsung washing machines, for example, are known for their innovative features such as AddWash, which allows you to add forgotten clothes mid-cycle, and EcoBubble technology, which creates powerful yet gentle foam for effective cleaning. LG washing machines, on the other hand, are known for their advanced technologies such as TurboWash, which reduces washing time, and TrueSteam, which eliminates allergens and wrinkles. Whirlpool and Bosch also offer a range of efficient and reliable washing machines with features such as energy-saving options and advanced cleaning cycles. It's always a good idea to read reviews and compare different models to find the best washing machine that suits your needs.\\nCustomer: does sony offer\\nSales Person: Sony offers a wide range of products including TVs, cameras, audio equipment, gaming consoles, and more. In terms of washing machines, Sony does not currently manufacture or sell washing machines. Their focus is primarily on consumer electronics and entertainment products.\\nCustomer: ok tell me about bosch\\nSales Person: Bosch is a well-known brand in the home appliances industry, including washing machines. They are known for their high-quality and reliable products. Bosch washing machines are designed with advanced technologies and features to provide efficient and effective cleaning. They offer a range of models with different capacities, spin speeds, and wash programs to suit various needs. Some notable features of Bosch washing machines include EcoSilence Drive, which ensures quiet operation, VarioPerfect, which allows you to choose between time-saving or energy-saving options, and ActiveWater, which optimizes water usage for each load. Bosch washing machines are also known for their durability and energy efficiency, making them a popular choice among consumers.\\nCustomer: can i buy tv n bosch\\nSales Person: No, Bosch does not manufacture or sell TVs. Their focus is primarily on home appliances such as washing machines, dishwashers, refrigerators, and cooking appliances. If you're looking to buy a TV, I would recommend considering brands like Sony, Samsung, LG, or TCL, as they offer a wide range of options with different features and technologies.\\nCustomer: ok tell me what type of washing machine are found\\nSales Person: There are several types of washing machines available in the market. The most common types include top-loading washing machines and front-loading washing machines. Top-loading washing machines have a lid on the top and the clothes are loaded from the top. They are generally more affordable and have faster wash cycles. Front-loading washing machines, on the other hand, have a door on the front and the clothes are loaded from the front. They are known for their energy efficiency, water efficiency, and better cleaning performance. Another type of washing machine is the semi-automatic washing machine, which requires manual intervention to move clothes from the washing tub to the spinning tub. These types of washing machines are usually more affordable but require more effort to operate. Additionally, there are compact washing machines available for smaller spaces, portable washing machines that can be moved around easily, and combination washer-dryer units that can both wash and dry clothes. It's important to consider your specific needs and preferences when choosing a washing machine type.\\nCustomer: i need tv\\nSales Person: That's great! Buying a TV can be an exciting experience. There are a lot of options available in the market these days. Can you please provide me with some specific details about the TV you are looking for?\\nCustomer: good sound quality\\nSales Person: When it comes to good sound quality in TVs, there are a few brands that are known for their excellent audio performance. LG and Sony, in particular, are known for their high-quality sound systems in their TVs. LG TVs often feature Dolby Atmos technology, which provides immersive and multidimensional sound, while Sony TVs often come with their own sound technologies such as Acoustic Surface Audio or Acoustic Multi-Audio, which deliver clear and balanced sound. It's also worth considering soundbars or external speaker systems if you want to enhance the audio experience even further.\\nCustomer: i want in sony\\nSales Person: If you're looking for good sound quality in a TV, Sony is a great choice. Sony TVs are known for their excellent picture quality, vibrant colors, and impressive contrast, as well as their high-quality sound systems. Sony often incorporates their own sound technologies such as Acoustic Surface Audio or Acoustic Multi-Audio, which deliver clear and balanced sound. So, if you're specifically looking for good sound quality in a TV, Sony would be a great brand to consider.\", 'response': 'No, Bosch does not manufacture or sell TVs. Their focus is primarily on home appliances such as washing machines, dishwashers, refrigerators, and cooking appliances.'}\n",
            "User: end\n",
            "End of conversation\n"
          ]
        }
      ]
    },
    {
      "cell_type": "code",
      "source": [
        "from langchain.callbacks import get_openai_callback\n",
        "\n",
        "def count_tokens(chain, query):\n",
        "    with get_openai_callback() as cb:\n",
        "        result = chain.run(query) # chain(query)\n",
        "        print(f'Spent a total of {cb.total_tokens} tokens')\n",
        "\n",
        "    return result"
      ],
      "metadata": {
        "id": "vZbNb3f_2T5i"
      },
      "execution_count": 50,
      "outputs": []
    },
    {
      "cell_type": "markdown",
      "source": [
        "**get_openai_callback **\n",
        "\n",
        "Function used as a context manager <br>\n",
        "To track the token usage of LLM calls.\n",
        "\n",
        "---\n",
        "\n",
        "\n",
        "**total_tokens**\n",
        "\n",
        "Attribute of the callback object <br>\n",
        "Provides the total number of tokens used in the LLM calls within the context."
      ],
      "metadata": {
        "id": "CkuOXB_ZRzjE"
      }
    },
    {
      "cell_type": "code",
      "source": [
        "while True:\n",
        "    # Get user's input\n",
        "    user_input = input(\"User: \")\n",
        "\n",
        "    if \"end\" in user_input:\n",
        "        print(\"End of conversation\")\n",
        "        break\n",
        "\n",
        "\n",
        "    chatbot_response = count_tokens(\n",
        "      conversation,\n",
        "      user_input\n",
        "    )\n",
        "\n",
        "    #Print response from chatbot\n",
        "    print(\"Bot : \",chatbot_response)"
      ],
      "metadata": {
        "colab": {
          "base_uri": "https://localhost:8080/"
        },
        "id": "3enrC3Kz4XUA",
        "outputId": "9e535d34-a4e4-40f1-f5a6-34edb634329b"
      },
      "execution_count": 56,
      "outputs": [
        {
          "output_type": "stream",
          "name": "stdout",
          "text": [
            "User: what other options do i have\n",
            "Spent a total of 1403 tokens\n",
            "Bot :  If you're looking for options other than Sony for TVs, some popular brands to consider are Samsung, LG, and TCL. Samsung is known for its vibrant colors and high-quality displays, while LG offers a range of features such as OLED technology and webOS smart platform. TCL is also gaining popularity with its affordable options and features like Roku TV. It's always a good idea to compare different models and read reviews to find the best TV that suits your needs and preferences.\n",
            "User: end\n",
            "End of conversation\n"
          ]
        }
      ]
    },
    {
      "cell_type": "code",
      "source": [
        "from langchain.callbacks import get_openai_callback\n",
        "\n",
        "def count_tokens_chain(conversation, user_input):\n",
        "    with get_openai_callback() as cb:\n",
        "        chatbot_response = conversation(user_input)\n",
        "        print(f'Spent a total of {cb.total_tokens} tokens')\n",
        "\n",
        "    return chatbot_response"
      ],
      "metadata": {
        "id": "3kJqAGsB4w_a"
      },
      "execution_count": null,
      "outputs": []
    },
    {
      "cell_type": "code",
      "source": [
        "while True:\n",
        "    # Get user's input\n",
        "    user_input = input(\"User: \")\n",
        "\n",
        "    if \"end\" in user_input:\n",
        "        print(\"End of conversation\")\n",
        "        break\n",
        "\n",
        "\n",
        "    chatbot_response = count_tokens_chain(\n",
        "      conversation,\n",
        "      user_input\n",
        "    )\n",
        "\n",
        "    #Print response from chatbot\n",
        "    print(\"Bot : \",chatbot_response)"
      ],
      "metadata": {
        "colab": {
          "base_uri": "https://localhost:8080/"
        },
        "id": "pmUY_Q6dDsoR",
        "outputId": "c560f3f0-2e5d-4d1f-fa56-6d2506790c2b"
      },
      "execution_count": 52,
      "outputs": [
        {
          "output_type": "stream",
          "name": "stdout",
          "text": [
            "User: i need tv\n",
            "Spent a total of 1025 tokens\n",
            "Bot :  {'input': 'i need tv', 'history': \"Customer: I want to buy TV\\nSales Person: That's great! Buying a TV can be an exciting experience. There are a lot of options available in the market these days. Can you please provide me with some specific details about the TV you are looking for?\\nCustomer: 55 inches\\nSales Person: That's a popular size for TVs. The 55-inch screen size provides a great balance between size and viewing experience. There are several brands that offer 55-inch TVs with different features and technologies. Some popular options include Samsung, LG, Sony, and TCL. Do you have a preferred brand or any other specific requirements for the TV?\\nCustomer: sony is it good\\nSales Person: Sony is a well-known brand in the TV industry and they have a good reputation for producing high-quality TVs. Sony TVs are known for their excellent picture quality, vibrant colors, and impressive contrast. They also offer a range of features such as smart TV capabilities, HDR support, and advanced image processing technologies. Overall, Sony is considered to be a reliable and reputable brand for TVs.\\nCustomer: how about in washing machine\\nSales Person: When it comes to washing machines, there are several brands that offer reliable and high-quality options. Some popular brands include Samsung, LG, Whirlpool, and Bosch. Each brand offers different features and technologies, so it's important to consider your specific needs and preferences. Samsung washing machines, for example, are known for their innovative features such as AddWash, which allows you to add forgotten clothes mid-cycle, and EcoBubble technology, which creates powerful yet gentle foam for effective cleaning. LG washing machines, on the other hand, are known for their advanced technologies such as TurboWash, which reduces washing time, and TrueSteam, which eliminates allergens and wrinkles. Whirlpool and Bosch also offer a range of efficient and reliable washing machines with features such as energy-saving options and advanced cleaning cycles. It's always a good idea to read reviews and compare different models to find the best washing machine that suits your needs.\\nCustomer: does sony offer\\nSales Person: Sony offers a wide range of products including TVs, cameras, audio equipment, gaming consoles, and more. In terms of washing machines, Sony does not currently manufacture or sell washing machines. Their focus is primarily on consumer electronics and entertainment products.\\nCustomer: ok tell me about bosch\\nSales Person: Bosch is a well-known brand in the home appliances industry, including washing machines. They are known for their high-quality and reliable products. Bosch washing machines are designed with advanced technologies and features to provide efficient and effective cleaning. They offer a range of models with different capacities, spin speeds, and wash programs to suit various needs. Some notable features of Bosch washing machines include EcoSilence Drive, which ensures quiet operation, VarioPerfect, which allows you to choose between time-saving or energy-saving options, and ActiveWater, which optimizes water usage for each load. Bosch washing machines are also known for their durability and energy efficiency, making them a popular choice among consumers.\\nCustomer: can i buy tv n bosch\\nSales Person: No, Bosch does not manufacture or sell TVs. Their focus is primarily on home appliances such as washing machines, dishwashers, refrigerators, and cooking appliances. If you're looking to buy a TV, I would recommend considering brands like Sony, Samsung, LG, or TCL, as they offer a wide range of options with different features and technologies.\\nCustomer: ok tell me what type of washing machine are found\\nSales Person: There are several types of washing machines available in the market. The most common types include top-loading washing machines and front-loading washing machines. Top-loading washing machines have a lid on the top and the clothes are loaded from the top. They are generally more affordable and have faster wash cycles. Front-loading washing machines, on the other hand, have a door on the front and the clothes are loaded from the front. They are known for their energy efficiency, water efficiency, and better cleaning performance. Another type of washing machine is the semi-automatic washing machine, which requires manual intervention to move clothes from the washing tub to the spinning tub. These types of washing machines are usually more affordable but require more effort to operate. Additionally, there are compact washing machines available for smaller spaces, portable washing machines that can be moved around easily, and combination washer-dryer units that can both wash and dry clothes. It's important to consider your specific needs and preferences when choosing a washing machine type.\", 'response': \"That's great! Buying a TV can be an exciting experience. There are a lot of options available in the market these days. Can you please provide me with some specific details about the TV you are looking for?\"}\n",
            "User: good sound quality\n",
            "Spent a total of 1146 tokens\n",
            "Bot :  {'input': 'good sound quality', 'history': \"Customer: I want to buy TV\\nSales Person: That's great! Buying a TV can be an exciting experience. There are a lot of options available in the market these days. Can you please provide me with some specific details about the TV you are looking for?\\nCustomer: 55 inches\\nSales Person: That's a popular size for TVs. The 55-inch screen size provides a great balance between size and viewing experience. There are several brands that offer 55-inch TVs with different features and technologies. Some popular options include Samsung, LG, Sony, and TCL. Do you have a preferred brand or any other specific requirements for the TV?\\nCustomer: sony is it good\\nSales Person: Sony is a well-known brand in the TV industry and they have a good reputation for producing high-quality TVs. Sony TVs are known for their excellent picture quality, vibrant colors, and impressive contrast. They also offer a range of features such as smart TV capabilities, HDR support, and advanced image processing technologies. Overall, Sony is considered to be a reliable and reputable brand for TVs.\\nCustomer: how about in washing machine\\nSales Person: When it comes to washing machines, there are several brands that offer reliable and high-quality options. Some popular brands include Samsung, LG, Whirlpool, and Bosch. Each brand offers different features and technologies, so it's important to consider your specific needs and preferences. Samsung washing machines, for example, are known for their innovative features such as AddWash, which allows you to add forgotten clothes mid-cycle, and EcoBubble technology, which creates powerful yet gentle foam for effective cleaning. LG washing machines, on the other hand, are known for their advanced technologies such as TurboWash, which reduces washing time, and TrueSteam, which eliminates allergens and wrinkles. Whirlpool and Bosch also offer a range of efficient and reliable washing machines with features such as energy-saving options and advanced cleaning cycles. It's always a good idea to read reviews and compare different models to find the best washing machine that suits your needs.\\nCustomer: does sony offer\\nSales Person: Sony offers a wide range of products including TVs, cameras, audio equipment, gaming consoles, and more. In terms of washing machines, Sony does not currently manufacture or sell washing machines. Their focus is primarily on consumer electronics and entertainment products.\\nCustomer: ok tell me about bosch\\nSales Person: Bosch is a well-known brand in the home appliances industry, including washing machines. They are known for their high-quality and reliable products. Bosch washing machines are designed with advanced technologies and features to provide efficient and effective cleaning. They offer a range of models with different capacities, spin speeds, and wash programs to suit various needs. Some notable features of Bosch washing machines include EcoSilence Drive, which ensures quiet operation, VarioPerfect, which allows you to choose between time-saving or energy-saving options, and ActiveWater, which optimizes water usage for each load. Bosch washing machines are also known for their durability and energy efficiency, making them a popular choice among consumers.\\nCustomer: can i buy tv n bosch\\nSales Person: No, Bosch does not manufacture or sell TVs. Their focus is primarily on home appliances such as washing machines, dishwashers, refrigerators, and cooking appliances. If you're looking to buy a TV, I would recommend considering brands like Sony, Samsung, LG, or TCL, as they offer a wide range of options with different features and technologies.\\nCustomer: ok tell me what type of washing machine are found\\nSales Person: There are several types of washing machines available in the market. The most common types include top-loading washing machines and front-loading washing machines. Top-loading washing machines have a lid on the top and the clothes are loaded from the top. They are generally more affordable and have faster wash cycles. Front-loading washing machines, on the other hand, have a door on the front and the clothes are loaded from the front. They are known for their energy efficiency, water efficiency, and better cleaning performance. Another type of washing machine is the semi-automatic washing machine, which requires manual intervention to move clothes from the washing tub to the spinning tub. These types of washing machines are usually more affordable but require more effort to operate. Additionally, there are compact washing machines available for smaller spaces, portable washing machines that can be moved around easily, and combination washer-dryer units that can both wash and dry clothes. It's important to consider your specific needs and preferences when choosing a washing machine type.\\nCustomer: i need tv\\nSales Person: That's great! Buying a TV can be an exciting experience. There are a lot of options available in the market these days. Can you please provide me with some specific details about the TV you are looking for?\", 'response': \"When it comes to good sound quality in TVs, there are a few brands that are known for their excellent audio performance. LG and Sony, in particular, are known for their high-quality sound systems in their TVs. LG TVs often feature Dolby Atmos technology, which provides immersive and multidimensional sound, while Sony TVs often come with their own sound technologies such as Acoustic Surface Audio or Acoustic Multi-Audio, which deliver clear and balanced sound. It's also worth considering soundbars or external speaker systems if you want to enhance the audio experience even further.\"}\n",
            "User: end\n",
            "End of conversation\n"
          ]
        }
      ]
    },
    {
      "cell_type": "code",
      "source": [
        "print(conversation.memory.buffer)"
      ],
      "metadata": {
        "colab": {
          "base_uri": "https://localhost:8080/"
        },
        "id": "oA3VfoLEEQ7R",
        "outputId": "65df0fde-5059-42d9-ec1c-2ed814daea57"
      },
      "execution_count": 53,
      "outputs": [
        {
          "output_type": "stream",
          "name": "stdout",
          "text": [
            "Customer: I want to buy TV\n",
            "Sales Person: That's great! Buying a TV can be an exciting experience. There are a lot of options available in the market these days. Can you please provide me with some specific details about the TV you are looking for?\n",
            "Customer: 55 inches\n",
            "Sales Person: That's a popular size for TVs. The 55-inch screen size provides a great balance between size and viewing experience. There are several brands that offer 55-inch TVs with different features and technologies. Some popular options include Samsung, LG, Sony, and TCL. Do you have a preferred brand or any other specific requirements for the TV?\n",
            "Customer: sony is it good\n",
            "Sales Person: Sony is a well-known brand in the TV industry and they have a good reputation for producing high-quality TVs. Sony TVs are known for their excellent picture quality, vibrant colors, and impressive contrast. They also offer a range of features such as smart TV capabilities, HDR support, and advanced image processing technologies. Overall, Sony is considered to be a reliable and reputable brand for TVs.\n",
            "Customer: how about in washing machine\n",
            "Sales Person: When it comes to washing machines, there are several brands that offer reliable and high-quality options. Some popular brands include Samsung, LG, Whirlpool, and Bosch. Each brand offers different features and technologies, so it's important to consider your specific needs and preferences. Samsung washing machines, for example, are known for their innovative features such as AddWash, which allows you to add forgotten clothes mid-cycle, and EcoBubble technology, which creates powerful yet gentle foam for effective cleaning. LG washing machines, on the other hand, are known for their advanced technologies such as TurboWash, which reduces washing time, and TrueSteam, which eliminates allergens and wrinkles. Whirlpool and Bosch also offer a range of efficient and reliable washing machines with features such as energy-saving options and advanced cleaning cycles. It's always a good idea to read reviews and compare different models to find the best washing machine that suits your needs.\n",
            "Customer: does sony offer\n",
            "Sales Person: Sony offers a wide range of products including TVs, cameras, audio equipment, gaming consoles, and more. In terms of washing machines, Sony does not currently manufacture or sell washing machines. Their focus is primarily on consumer electronics and entertainment products.\n",
            "Customer: ok tell me about bosch\n",
            "Sales Person: Bosch is a well-known brand in the home appliances industry, including washing machines. They are known for their high-quality and reliable products. Bosch washing machines are designed with advanced technologies and features to provide efficient and effective cleaning. They offer a range of models with different capacities, spin speeds, and wash programs to suit various needs. Some notable features of Bosch washing machines include EcoSilence Drive, which ensures quiet operation, VarioPerfect, which allows you to choose between time-saving or energy-saving options, and ActiveWater, which optimizes water usage for each load. Bosch washing machines are also known for their durability and energy efficiency, making them a popular choice among consumers.\n",
            "Customer: can i buy tv n bosch\n",
            "Sales Person: No, Bosch does not manufacture or sell TVs. Their focus is primarily on home appliances such as washing machines, dishwashers, refrigerators, and cooking appliances. If you're looking to buy a TV, I would recommend considering brands like Sony, Samsung, LG, or TCL, as they offer a wide range of options with different features and technologies.\n",
            "Customer: ok tell me what type of washing machine are found\n",
            "Sales Person: There are several types of washing machines available in the market. The most common types include top-loading washing machines and front-loading washing machines. Top-loading washing machines have a lid on the top and the clothes are loaded from the top. They are generally more affordable and have faster wash cycles. Front-loading washing machines, on the other hand, have a door on the front and the clothes are loaded from the front. They are known for their energy efficiency, water efficiency, and better cleaning performance. Another type of washing machine is the semi-automatic washing machine, which requires manual intervention to move clothes from the washing tub to the spinning tub. These types of washing machines are usually more affordable but require more effort to operate. Additionally, there are compact washing machines available for smaller spaces, portable washing machines that can be moved around easily, and combination washer-dryer units that can both wash and dry clothes. It's important to consider your specific needs and preferences when choosing a washing machine type.\n",
            "Customer: i need tv\n",
            "Sales Person: That's great! Buying a TV can be an exciting experience. There are a lot of options available in the market these days. Can you please provide me with some specific details about the TV you are looking for?\n",
            "Customer: good sound quality\n",
            "Sales Person: When it comes to good sound quality in TVs, there are a few brands that are known for their excellent audio performance. LG and Sony, in particular, are known for their high-quality sound systems in their TVs. LG TVs often feature Dolby Atmos technology, which provides immersive and multidimensional sound, while Sony TVs often come with their own sound technologies such as Acoustic Surface Audio or Acoustic Multi-Audio, which deliver clear and balanced sound. It's also worth considering soundbars or external speaker systems if you want to enhance the audio experience even further.\n"
          ]
        }
      ]
    }
  ]
}