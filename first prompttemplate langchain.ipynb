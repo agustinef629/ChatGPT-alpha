{
 "cells": [
  {
   "cell_type": "code",
   "execution_count": 1,
   "id": "c53e9bec",
   "metadata": {},
   "outputs": [],
   "source": [
    "import os\n",
    "import openai\n",
    "\n",
    "openai.api_key = os.getenv(\"OPENAI_API_KEY_SID\")"
   ]
  },
  {
   "cell_type": "code",
   "execution_count": 2,
   "id": "858b9617",
   "metadata": {},
   "outputs": [],
   "source": [
    "from langchain import OpenAI,PromptTemplate"
   ]
  },
  {
   "cell_type": "markdown",
   "id": "72d1f64e",
   "metadata": {},
   "source": [
    "# No input variable"
   ]
  },
  {
   "cell_type": "code",
   "execution_count": 19,
   "id": "2fd04ae6",
   "metadata": {},
   "outputs": [],
   "source": [
    "template = '''\n",
    "Find acronym for OCR\n",
    "'''"
   ]
  },
  {
   "cell_type": "code",
   "execution_count": 20,
   "id": "e27031df",
   "metadata": {},
   "outputs": [],
   "source": [
    "prompt = PromptTemplate.from_template(template = template)"
   ]
  },
  {
   "cell_type": "code",
   "execution_count": 21,
   "id": "4771709d",
   "metadata": {},
   "outputs": [
    {
     "data": {
      "text/plain": [
       "'\\nFind acronym for OCR\\n'"
      ]
     },
     "execution_count": 21,
     "metadata": {},
     "output_type": "execute_result"
    }
   ],
   "source": [
    "prompt.format()"
   ]
  },
  {
   "cell_type": "code",
   "execution_count": 22,
   "id": "f3724d43",
   "metadata": {},
   "outputs": [
    {
     "name": "stdout",
     "output_type": "stream",
     "text": [
      "input_variables=[] output_parser=None partial_variables={} template='\\nFind acronym for OCR\\n' template_format='f-string' validate_template=True\n"
     ]
    }
   ],
   "source": [
    "print(prompt)"
   ]
  },
  {
   "cell_type": "markdown",
   "id": "c47545c5",
   "metadata": {},
   "source": [
    "# Single input variable"
   ]
  },
  {
   "cell_type": "code",
   "execution_count": 27,
   "id": "93567221",
   "metadata": {},
   "outputs": [],
   "source": [
    "template = '''\n",
    "Find acronym for {acronym}\n",
    "'''"
   ]
  },
  {
   "cell_type": "code",
   "execution_count": 28,
   "id": "72be8731",
   "metadata": {},
   "outputs": [],
   "source": [
    "prompt = PromptTemplate(input_variables=[\"acronym\"],template=template)"
   ]
  },
  {
   "cell_type": "code",
   "execution_count": 33,
   "id": "560178a9",
   "metadata": {},
   "outputs": [],
   "source": [
    "str_prompt = prompt.format(acronym=\"OCR\")"
   ]
  },
  {
   "cell_type": "code",
   "execution_count": 31,
   "id": "6a1770e0",
   "metadata": {},
   "outputs": [],
   "source": [
    "llm = OpenAI()"
   ]
  },
  {
   "cell_type": "code",
   "execution_count": 35,
   "id": "98c3e5d1",
   "metadata": {},
   "outputs": [
    {
     "data": {
      "text/plain": [
       "LLMResult(generations=[[Generation(text='\\nOptical Character Recognition', generation_info={'finish_reason': 'stop', 'logprobs': None})]], llm_output={'token_usage': {'prompt_tokens': 7, 'total_tokens': 13, 'completion_tokens': 6}, 'model_name': 'text-davinci-003'})"
      ]
     },
     "execution_count": 35,
     "metadata": {},
     "output_type": "execute_result"
    }
   ],
   "source": [
    "llm.generate([str_prompt])"
   ]
  },
  {
   "cell_type": "markdown",
   "id": "a9d69a2d",
   "metadata": {},
   "source": [
    "# Multiple input variables"
   ]
  },
  {
   "cell_type": "code",
   "execution_count": 57,
   "id": "8164f8e9",
   "metadata": {},
   "outputs": [],
   "source": [
    "template = '''\n",
    "Question : Find acronym for {acronym}\n",
    "Answer : {format}\n",
    "'''"
   ]
  },
  {
   "cell_type": "code",
   "execution_count": 58,
   "id": "729b9841",
   "metadata": {},
   "outputs": [],
   "source": [
    "prompt = PromptTemplate(input_variables=[\"acronym\",\"format\"],template=template)"
   ]
  },
  {
   "cell_type": "code",
   "execution_count": 59,
   "id": "dd53f55b",
   "metadata": {},
   "outputs": [],
   "source": [
    "str1_prompt = prompt.format(acronym=\"OCR\",format=\"acronym : result\")"
   ]
  },
  {
   "cell_type": "code",
   "execution_count": 60,
   "id": "c3957916",
   "metadata": {},
   "outputs": [],
   "source": [
    "llm_result = llm.generate([str1_prompt])"
   ]
  },
  {
   "cell_type": "code",
   "execution_count": 61,
   "id": "c3099ee9",
   "metadata": {},
   "outputs": [
    {
     "name": "stdout",
     "output_type": "stream",
     "text": [
      "OCR : Optical Character Recognition\n"
     ]
    }
   ],
   "source": [
    "print(llm_result.generations[0][0].text)"
   ]
  },
  {
   "cell_type": "markdown",
   "id": "5d36e09c",
   "metadata": {},
   "source": [
    "# Multiple input for a variable"
   ]
  },
  {
   "cell_type": "code",
   "execution_count": 62,
   "id": "0b3b6a77",
   "metadata": {},
   "outputs": [],
   "source": [
    "str2_prompt = prompt.format(acronym=[\"OCR\",\"API\"],format=\"acronym : result\")"
   ]
  },
  {
   "cell_type": "code",
   "execution_count": 63,
   "id": "3b93c235",
   "metadata": {},
   "outputs": [],
   "source": [
    "llm_result = llm.generate([str2_prompt])"
   ]
  },
  {
   "cell_type": "code",
   "execution_count": 64,
   "id": "5f64daac",
   "metadata": {},
   "outputs": [
    {
     "name": "stdout",
     "output_type": "stream",
     "text": [
      "OCR : Optical Character Recognition \n",
      "API : Application Programming Interface\n"
     ]
    }
   ],
   "source": [
    "print(llm_result.generations[0][0].text)"
   ]
  }
 ],
 "metadata": {
  "kernelspec": {
   "display_name": "Python 3 (ipykernel)",
   "language": "python",
   "name": "python3"
  },
  "language_info": {
   "codemirror_mode": {
    "name": "ipython",
    "version": 3
   },
   "file_extension": ".py",
   "mimetype": "text/x-python",
   "name": "python",
   "nbconvert_exporter": "python",
   "pygments_lexer": "ipython3",
   "version": "3.8.2"
  }
 },
 "nbformat": 4,
 "nbformat_minor": 5
}
