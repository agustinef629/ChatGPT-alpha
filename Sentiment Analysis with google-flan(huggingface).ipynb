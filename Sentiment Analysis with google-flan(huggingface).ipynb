{
 "cells": [
  {
   "cell_type": "markdown",
   "id": "cb2b427b",
   "metadata": {},
   "source": [
    "https://huggingface.co/docs/hub/index"
   ]
  },
  {
   "cell_type": "code",
   "execution_count": 5,
   "id": "dc7a31a1",
   "metadata": {},
   "outputs": [
    {
     "name": "stdout",
     "output_type": "stream",
     "text": [
      "Defaulting to user installation because normal site-packages is not writeable\n",
      "Collecting huggingface_hub\n",
      "  Downloading huggingface_hub-0.16.4-py3-none-any.whl (268 kB)\n",
      "     -------------------------------------- 268.8/268.8 kB 1.3 MB/s eta 0:00:00\n",
      "Requirement already satisfied: pyyaml>=5.1 in c:\\users\\lovelyn\\appdata\\roaming\\python\\python38\\site-packages (from huggingface_hub) (6.0)\n",
      "Requirement already satisfied: typing-extensions>=3.7.4.3 in c:\\users\\lovelyn\\appdata\\roaming\\python\\python38\\site-packages (from huggingface_hub) (4.6.3)\n",
      "Requirement already satisfied: filelock in c:\\users\\lovelyn\\appdata\\roaming\\python\\python38\\site-packages (from huggingface_hub) (3.6.0)\n",
      "Requirement already satisfied: packaging>=20.9 in c:\\users\\lovelyn\\appdata\\roaming\\python\\python38\\site-packages (from huggingface_hub) (21.3)\n",
      "Collecting fsspec\n",
      "  Downloading fsspec-2023.6.0-py3-none-any.whl (163 kB)\n",
      "     -------------------------------------- 163.8/163.8 kB 1.7 MB/s eta 0:00:00\n",
      "Requirement already satisfied: tqdm>=4.42.1 in c:\\users\\lovelyn\\appdata\\roaming\\python\\python38\\site-packages (from huggingface_hub) (4.65.0)\n",
      "Requirement already satisfied: requests in c:\\users\\lovelyn\\appdata\\roaming\\python\\python38\\site-packages (from huggingface_hub) (2.31.0)\n",
      "Requirement already satisfied: pyparsing!=3.0.5,>=2.0.2 in c:\\users\\lovelyn\\appdata\\roaming\\python\\python38\\site-packages (from packaging>=20.9->huggingface_hub) (3.0.9)\n",
      "Requirement already satisfied: colorama in c:\\users\\lovelyn\\appdata\\roaming\\python\\python38\\site-packages (from tqdm>=4.42.1->huggingface_hub) (0.4.4)\n",
      "Requirement already satisfied: idna<4,>=2.5 in c:\\users\\lovelyn\\appdata\\roaming\\python\\python38\\site-packages (from requests->huggingface_hub) (3.3)\n",
      "Requirement already satisfied: certifi>=2017.4.17 in c:\\users\\lovelyn\\appdata\\roaming\\python\\python38\\site-packages (from requests->huggingface_hub) (2021.10.8)\n",
      "Requirement already satisfied: urllib3<3,>=1.21.1 in c:\\users\\lovelyn\\appdata\\roaming\\python\\python38\\site-packages (from requests->huggingface_hub) (1.26.7)\n",
      "Requirement already satisfied: charset-normalizer<4,>=2 in c:\\users\\lovelyn\\appdata\\roaming\\python\\python38\\site-packages (from requests->huggingface_hub) (2.0.7)\n",
      "Installing collected packages: fsspec, huggingface_hub\n",
      "Successfully installed fsspec-2023.6.0 huggingface_hub-0.16.4\n"
     ]
    },
    {
     "name": "stderr",
     "output_type": "stream",
     "text": [
      "WARNING: pip is being invoked by an old script wrapper. This will fail in a future version of pip.\n",
      "Please see https://github.com/pypa/pip/issues/5599 for advice on fixing the underlying issue.\n",
      "To avoid this problem you can invoke Python with '-m pip' instead of running pip directly.\n",
      "WARNING: Ignoring invalid distribution -ordcloud (c:\\users\\lovelyn\\appdata\\roaming\\python\\python38\\site-packages)\n",
      "WARNING: Ignoring invalid distribution -illow (c:\\users\\lovelyn\\appdata\\roaming\\python\\python38\\site-packages)\n",
      "WARNING: Ignoring invalid distribution -ordcloud (c:\\users\\lovelyn\\appdata\\roaming\\python\\python38\\site-packages)\n",
      "WARNING: Ignoring invalid distribution -illow (c:\\users\\lovelyn\\appdata\\roaming\\python\\python38\\site-packages)\n",
      "WARNING: Ignoring invalid distribution -ordcloud (c:\\users\\lovelyn\\appdata\\roaming\\python\\python38\\site-packages)\n",
      "WARNING: Ignoring invalid distribution -illow (c:\\users\\lovelyn\\appdata\\roaming\\python\\python38\\site-packages)\n",
      "WARNING: Ignoring invalid distribution -ordcloud (c:\\users\\lovelyn\\appdata\\roaming\\python\\python38\\site-packages)\n",
      "WARNING: Ignoring invalid distribution -illow (c:\\users\\lovelyn\\appdata\\roaming\\python\\python38\\site-packages)\n",
      "WARNING: Ignoring invalid distribution -ordcloud (c:\\users\\lovelyn\\appdata\\roaming\\python\\python38\\site-packages)\n",
      "WARNING: Ignoring invalid distribution -illow (c:\\users\\lovelyn\\appdata\\roaming\\python\\python38\\site-packages)\n",
      "WARNING: Ignoring invalid distribution -ordcloud (c:\\users\\lovelyn\\appdata\\roaming\\python\\python38\\site-packages)\n",
      "WARNING: Ignoring invalid distribution -illow (c:\\users\\lovelyn\\appdata\\roaming\\python\\python38\\site-packages)\n",
      "WARNING: Ignoring invalid distribution -ordcloud (c:\\users\\lovelyn\\appdata\\roaming\\python\\python38\\site-packages)\n",
      "WARNING: Ignoring invalid distribution -illow (c:\\users\\lovelyn\\appdata\\roaming\\python\\python38\\site-packages)\n",
      "WARNING: Ignoring invalid distribution -ordcloud (c:\\users\\lovelyn\\appdata\\roaming\\python\\python38\\site-packages)\n",
      "WARNING: Ignoring invalid distribution -illow (c:\\users\\lovelyn\\appdata\\roaming\\python\\python38\\site-packages)\n",
      "\n",
      "[notice] A new release of pip available: 22.3.1 -> 23.2.1\n",
      "[notice] To update, run: python.exe -m pip install --upgrade pip\n"
     ]
    }
   ],
   "source": [
    "!pip install huggingface_hub"
   ]
  },
  {
   "cell_type": "code",
   "execution_count": 20,
   "id": "38caee6a",
   "metadata": {},
   "outputs": [],
   "source": [
    "api = your_key"
   ]
  },
  {
   "cell_type": "code",
   "execution_count": 21,
   "id": "6d564ed8",
   "metadata": {},
   "outputs": [],
   "source": [
    "from langchain import PromptTemplate\n",
    "\n",
    "template='''You analyse the sentiment of the text provided. \n",
    "The sentiment can be positive, negative or neutral.\n",
    "{text}\n",
    "'''\n",
    "\n",
    "prompt = PromptTemplate(template = template,input_variables=[\"text\"])"
   ]
  },
  {
   "cell_type": "code",
   "execution_count": 22,
   "id": "2eb838a6",
   "metadata": {},
   "outputs": [],
   "source": [
    "from langchain import HuggingFaceHub, LLMChain\n",
    "\n",
    "# initialize Hub LLM\n",
    "hub_llm = HuggingFaceHub(\n",
    "        repo_id='google/flan-t5-xxl',\n",
    "    huggingfacehub_api_token = api,\n",
    "    model_kwargs={'temperature':0.8,\n",
    "                  'max_length':512}\n",
    ")\n",
    "\n",
    "\n",
    "llm_chain = LLMChain(\n",
    "    prompt=prompt,\n",
    "    llm=hub_llm\n",
    ")\n",
    "\n"
   ]
  },
  {
   "cell_type": "code",
   "execution_count": 23,
   "id": "66c927d2",
   "metadata": {},
   "outputs": [
    {
     "name": "stdout",
     "output_type": "stream",
     "text": [
      "neutral\n"
     ]
    }
   ],
   "source": [
    "print(llm_chain.run(\"It is located in Chennai\"))"
   ]
  },
  {
   "cell_type": "code",
   "execution_count": 24,
   "id": "851a8c1b",
   "metadata": {},
   "outputs": [
    {
     "name": "stdout",
     "output_type": "stream",
     "text": [
      "negative\n"
     ]
    }
   ],
   "source": [
    "print(llm_chain.run(\"Keep the windows shut and stay at home if you use that perfume\"))"
   ]
  },
  {
   "cell_type": "code",
   "execution_count": 25,
   "id": "4b024c95",
   "metadata": {},
   "outputs": [
    {
     "name": "stdout",
     "output_type": "stream",
     "text": [
      "positive\n"
     ]
    }
   ],
   "source": [
    "print(llm_chain.run(\"The battery is long lasting\"))"
   ]
  }
 ],
 "metadata": {
  "kernelspec": {
   "display_name": "Python 3 (ipykernel)",
   "language": "python",
   "name": "python3"
  },
  "language_info": {
   "codemirror_mode": {
    "name": "ipython",
    "version": 3
   },
   "file_extension": ".py",
   "mimetype": "text/x-python",
   "name": "python",
   "nbconvert_exporter": "python",
   "pygments_lexer": "ipython3",
   "version": "3.8.2"
  }
 },
 "nbformat": 4,
 "nbformat_minor": 5
}
